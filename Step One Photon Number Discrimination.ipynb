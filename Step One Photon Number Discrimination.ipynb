{
 "cells": [
  {
   "cell_type": "markdown",
   "metadata": {},
   "source": [
    "# Step One Photon Number Discrimination\n",
    "* Determine the height thresholds for 2 level discrminator\n",
    "* Obtain area histogram of traces\n",
    "* Use area histogram to categorise photon number in traces"
   ]
  },
  {
   "cell_type": "raw",
   "metadata": {},
   "source": [
    "Output files:\n",
    "List of n=1 traces\n",
    "List of n=2 traces\n",
    "Data file with:\n",
    "    Height threshold\n",
    "    Noise threshold\n",
    "    n=1 integral center\n",
    "    n=2 integral limits"
   ]
  },
  {
   "cell_type": "code",
   "execution_count": 2,
   "metadata": {},
   "outputs": [
    {
     "data": {
      "text/plain": [
       "<module 'pulse_utils' from '/mnt/disk0/home/jianwei_leejw/scripts/TESPulseFitCode/pulse_utils.pyc'>"
      ]
     },
     "execution_count": 2,
     "metadata": {},
     "output_type": "execute_result"
    }
   ],
   "source": [
    "from __future__ import division\n",
    "import tqdm\n",
    "import os\n",
    "import sys\n",
    "sys.path.append('/mnt/disk0/home/jianwei_leejw/scripts/TESPulseFitCode')\n",
    "\n",
    "import scipy\n",
    "import numpy as np\n",
    "import matplotlib\n",
    "import matplotlib.pyplot as plt\n",
    "import glob\n",
    "import pickle\n",
    "from multiprocess import Pool\n",
    "\n",
    "import seaborn\n",
    "\n",
    "import heralded_pulses_analysis as hpa\n",
    "import thres_poiss\n",
    "import thres\n",
    "import pulse_utils as pu\n",
    "reload(pu)"
   ]
  },
  {
   "cell_type": "code",
   "execution_count": 4,
   "metadata": {},
   "outputs": [
    {
     "name": "stdout",
     "output_type": "stream",
     "text": [
      "400000\n"
     ]
    }
   ],
   "source": [
    "# Imports CW traces\n",
    "directories = ['/mnt/disk1/data/20170523_TES5_75mK_95uA_trise_115ns/doubles/',\n",
    "              '/mnt/disk1/data/20170523_TES5_75mK_95uA_trise_115ns/doubles_more/',\n",
    "              '/mnt/disk1/data/20170523_TES5_75mK_95uA_trise_115ns/doubles_more_more/',\n",
    "              '/mnt/disk1/data/20170523_TES5_75mK_95uA_trise_115ns/doubles_more_more_more/']\n",
    "results_directory = './'\n",
    "filelist=[]\n",
    "for directory_name in directories:\n",
    "    subfilelist = np.array(glob.glob(directory_name + '*.trc'))\n",
    "    filelist.extend(subfilelist)\n",
    "filelist = np.sort(np.array(filelist))\n",
    "print len(filelist)"
   ]
  },
  {
   "cell_type": "markdown",
   "metadata": {},
   "source": [
    "# Get Approximate Height Threshold\n",
    "Estimate threshold height to discriminate between electrical noise and photodetection events.\n",
    "\n",
    "Gets maximum height of pulses, histograms the heights. \n",
    "\n",
    "Fit the distributions to a model to find the minimum crossing point between the distributions.\n",
    "\n",
    "The resolution of this distribution will not be optimal due to the presence of partial pulses at the edges."
   ]
  },
  {
   "cell_type": "code",
   "execution_count": 5,
   "metadata": {
    "collapsed": true
   },
   "outputs": [],
   "source": [
    "sample_size = int(0.1*len(filelist)) # number of samples to obtain height threshold from"
   ]
  },
  {
   "cell_type": "code",
   "execution_count": 6,
   "metadata": {},
   "outputs": [
    {
     "name": "stderr",
     "output_type": "stream",
     "text": [
      "100%|██████████| 40000/40000 [00:03<00:00, 12286.69it/s]\n"
     ]
    }
   ],
   "source": [
    "# max_heights = np.array([hpa.max_height(f) for f in tqdm.tqdm(filelist[:sample_size])])\n",
    "max_heights = np.array(Pool(24).map(hpa.max_height, tqdm.tqdm(filelist[:sample_size])))"
   ]
  },
  {
   "cell_type": "code",
   "execution_count": 7,
   "metadata": {
    "collapsed": true
   },
   "outputs": [],
   "source": [
    "bins = 150"
   ]
  },
  {
   "cell_type": "code",
   "execution_count": 8,
   "metadata": {
    "collapsed": true
   },
   "outputs": [],
   "source": [
    "height_distribution = np.histogram(max_heights, bins)"
   ]
  },
  {
   "cell_type": "code",
   "execution_count": 9,
   "metadata": {},
   "outputs": [
    {
     "name": "stdout",
     "output_type": "stream",
     "text": [
      "[0.0078042049269024276]\n"
     ]
    }
   ],
   "source": [
    "height_th_approx = thres_poiss.thresholds_N(height_distribution, \n",
    "                                            min_peak_sep=0.01, \n",
    "                                            weighted=True)\n",
    "print height_th_approx"
   ]
  },
  {
   "cell_type": "code",
   "execution_count": 10,
   "metadata": {},
   "outputs": [
    {
     "name": "stderr",
     "output_type": "stream",
     "text": [
      "/usr/local/lib/python2.7/dist-packages/matplotlib/font_manager.py:1297: UserWarning: findfont: Font family [u'sans-serif'] not found. Falling back to DejaVu Sans\n",
      "  (prop.get_family(), self.defaultFamily[fontext]))\n"
     ]
    },
    {
     "data": {
      "image/png": "[encoded data removed]",
      "text/plain": [
       "<matplotlib.figure.Figure at 0x7f1f389f7050>"
      ]
     },
     "metadata": {},
     "output_type": "display_data"
    }
   ],
   "source": [
    "plt.figure()\n",
    "plt.title('Maximum Height Distribution\\nSample size = {}'.format(sample_size))\n",
    "plt.bar(height_distribution[1][:-1],\n",
    "        height_distribution[0], \n",
    "        width = np.diff(height_distribution[1])[0],\n",
    "        align='center')\n",
    "plt.axvline(height_th_approx, label='height_th_approx', linestyle='--')\n",
    "plt.legend()\n",
    "plt.show()"
   ]
  },
  {
   "cell_type": "markdown",
   "metadata": {},
   "source": [
    "# Get Height Threshold (excluding partial pulses)\n",
    "The maximum height of pulses at the edge of the acquisition window do not report the peak photodetection signal - they are obscured.\n",
    "\n",
    "We use the approximate height obtained to initialise a two level discriminator.\n",
    "\n",
    "The discriminator has 3 inputs:\n",
    "* high_th: the level crossing that identifies the signal as a photodetection event\n",
    "* low_th: the level crossing that turns the discriminator logic off\n",
    "* offset: the number of data points that the discriminator window extends, in order to improve the signal to noise ratio\n",
    "\n",
    "We use param_extr to calculate these values, \n",
    "(within discriminated windows, while ignoring partial traces)\n",
    "* max height \n",
    "* rms \n",
    "* absolute area "
   ]
  },
  {
   "cell_type": "code",
   "execution_count": 11,
   "metadata": {},
   "outputs": [
    {
     "name": "stdout",
     "output_type": "stream",
     "text": [
      "650\n"
     ]
    }
   ],
   "source": [
    "# Calculate offset value as a function of points\n",
    "time_vector = pu.time_vector(filelist[0])\n",
    "dt = np.diff(time_vector)[0]\n",
    "offset = int(1300e-9/dt)\n",
    "print offset"
   ]
  },
  {
   "cell_type": "code",
   "execution_count": 13,
   "metadata": {},
   "outputs": [
    {
     "name": "stderr",
     "output_type": "stream",
     "text": [
      "100%|██████████| 40000/40000 [00:08<00:00, 4547.02it/s] \n"
     ]
    }
   ],
   "source": [
    "# trace_parameters_approx = np.array([hpa.param_extr(f,\n",
    "#                                    high_th = height_th_approx,\n",
    "#                                    low_th = 0,\n",
    "#                                    offset = offset)\n",
    "#                    for f in tqdm.tqdm(filelist[:sample_size])])\n",
    "trace_parameters_approx = np.array(Pool(24).map(lambda f: hpa.param_extr(f,\n",
    "                                   high_th = height_th_approx,\n",
    "                                   low_th = 0,\n",
    "                                   offset = offset),\n",
    "                                  tqdm.tqdm(filelist[:sample_size])))"
   ]
  },
  {
   "cell_type": "code",
   "execution_count": 14,
   "metadata": {
    "collapsed": true
   },
   "outputs": [],
   "source": [
    "max_heights_discriminated = trace_parameters_approx['height']"
   ]
  },
  {
   "cell_type": "code",
   "execution_count": 15,
   "metadata": {
    "collapsed": true
   },
   "outputs": [],
   "source": [
    "bins = 150\n",
    "height_distribution_discriminated = np.histogram(max_heights_discriminated, bins)"
   ]
  },
  {
   "cell_type": "code",
   "execution_count": 16,
   "metadata": {},
   "outputs": [
    {
     "data": {
      "text/plain": [
       "0.0079408483085594457"
      ]
     },
     "execution_count": 16,
     "metadata": {},
     "output_type": "execute_result"
    }
   ],
   "source": [
    "reload(thres_poiss)\n",
    "\n",
    "result_height =  thres_poiss.gauss_fit_interp(height_distribution_discriminated, \n",
    "                                  min_peak_sep=0.01,\n",
    "                                  weighted=True)\n",
    "\n",
    "height_th = thres_poiss.thresholds_N(height_distribution_discriminated, \n",
    "                                            min_peak_sep=0.01, \n",
    "                                            weighted=True)\n",
    "height_th = height_th[0]\n",
    "height_th"
   ]
  },
  {
   "cell_type": "code",
   "execution_count": 17,
   "metadata": {},
   "outputs": [
    {
     "data": {
      "image/png": "[encoded data removed]",
      "text/plain": [
       "<matplotlib.figure.Figure at 0x7f1f385ea390>"
      ]
     },
     "metadata": {},
     "output_type": "display_data"
    }
   ],
   "source": [
    "plt.figure()\n",
    "plt.title('Maximum Height Distribution (ignoring edges)\\nSample size = {}'.format(sample_size))\n",
    "plt.bar(height_distribution_discriminated[1][:-1],\n",
    "        height_distribution_discriminated[0], \n",
    "        width = np.diff(height_distribution_discriminated[1])[0],\n",
    "        align='center')\n",
    "plt.axvline(height_th, label='height_th', linestyle='--')\n",
    "plt.legend()\n",
    "plt.show()"
   ]
  },
  {
   "cell_type": "code",
   "execution_count": 18,
   "metadata": {
    "collapsed": true
   },
   "outputs": [],
   "source": [
    "def histogram(nphisto):\n",
    "    bins = nphisto[1][:-1]\n",
    "    bins = bins + np.diff(bins)[0]/2\n",
    "    frequencies =  nphisto[0]\n",
    "    return frequencies, bins"
   ]
  },
  {
   "cell_type": "code",
   "execution_count": 19,
   "metadata": {
    "collapsed": true
   },
   "outputs": [],
   "source": [
    "frequencies,bins = histogram(height_distribution_discriminated)\n",
    "comps = result_height.eval_components(x=bins)"
   ]
  },
  {
   "cell_type": "code",
   "execution_count": 20,
   "metadata": {
    "collapsed": true
   },
   "outputs": [],
   "source": [
    "np.savetxt('pnr_height.dat',histogram(height_distribution_discriminated))\n",
    "np.savetxt('g0_component.dat',comps['g0_'])\n",
    "np.savetxt('g1_component.dat',comps['g1_'])\n",
    "with open('pnr_height_readme.dat','a+') as fp:\n",
    "    fp.write('height_th = {}\\n samples = {}'.format(height_th,sample_size))\n",
    "fp.close()"
   ]
  },
  {
   "cell_type": "markdown",
   "metadata": {},
   "source": [
    "# Calculate trace parameters with height threshold (obtained excluding partial pulses)\n",
    "* Computes trace parameters for ALL traces\n",
    "* Speeds up tasks with multiprocessing"
   ]
  },
  {
   "cell_type": "code",
   "execution_count": 21,
   "metadata": {
    "collapsed": true
   },
   "outputs": [],
   "source": [
    "# Import/Set discriminator settings\n",
    "# if os.path.isfile(results_directory + 'disc_settings.dat'):\n",
    "[height_th, offset] = np.loadtxt(results_directory + 'disc_settings.dat')\n",
    "offset = int(offset)"
   ]
  },
  {
   "cell_type": "code",
   "execution_count": 5,
   "metadata": {
    "collapsed": true
   },
   "outputs": [],
   "source": [
    "# Manually set height_th\n",
    "height_th = 0.007940936436562001"
   ]
  },
  {
   "cell_type": "code",
   "execution_count": 22,
   "metadata": {
    "collapsed": true
   },
   "outputs": [],
   "source": [
    "# saves discriminator characteristics\n",
    "np.savetxt(results_directory + 'disc_settings.dat', [height_th, offset],header='height_th\\toffset')"
   ]
  },
  {
   "cell_type": "code",
   "execution_count": 23,
   "metadata": {},
   "outputs": [
    {
     "name": "stdout",
     "output_type": "stream",
     "text": [
      "0.00794093643656 650\n"
     ]
    }
   ],
   "source": [
    "print height_th, offset"
   ]
  },
  {
   "cell_type": "code",
   "execution_count": 24,
   "metadata": {},
   "outputs": [
    {
     "name": "stderr",
     "output_type": "stream",
     "text": [
      "\r",
      "  0%|          | 0/400000 [00:00<?, ?it/s]"
     ]
    }
   ],
   "source": [
    "tasks = tqdm.tqdm(filelist)\n",
    "def param_extr_poolable(f):\n",
    "    \"\"\"poolable version of parameter extractor\"\"\"\n",
    "    return hpa.param_extr(f,\n",
    "                   high_th = height_th,\n",
    "                   low_th = 0,\n",
    "                   offset = offset)"
   ]
  },
  {
   "cell_type": "code",
   "execution_count": 6,
   "metadata": {},
   "outputs": [],
   "source": [
    "reload(hpa)\n",
    "if os.path.isfile(results_directory + 'trace_params.dat'):\n",
    "    trace_parameters = np.genfromtxt(results_directory + 'trace_params.dat', names=True)\n",
    "else:\n",
    "    trace_parameters = np.array(Pool(24).map(param_extr_poolable, tasks))\n",
    "# trace_parameters = np.array(Pool(24).map(param_extr_poolable, tasks))"
   ]
  },
  {
   "cell_type": "code",
   "execution_count": 7,
   "metadata": {
    "collapsed": true
   },
   "outputs": [],
   "source": [
    "area = trace_parameters['area_win']"
   ]
  },
  {
   "cell_type": "code",
   "execution_count": 27,
   "metadata": {
    "collapsed": true
   },
   "outputs": [],
   "source": [
    "# %matplotlib notebook\n",
    "# plt.hist(height,200);"
   ]
  },
  {
   "cell_type": "markdown",
   "metadata": {},
   "source": [
    "# Fit Area Distribution\n",
    "* Threshold (th01) between n=0, n=1 determined by seeking the minimum between the two distributions.\n",
    "* N >= 1 distributions fitted with Gaussian multiplied by Poisson coefficients\n",
    "* N=1 distribution is selected to be within 2 sigmas of its distribution.\n",
    "* N=2 distribution selected to be within th12 and th23"
   ]
  },
  {
   "cell_type": "code",
   "execution_count": 8,
   "metadata": {
    "collapsed": true
   },
   "outputs": [],
   "source": [
    "bins = 200\n",
    "area_distribution = np.histogram(area, bins) "
   ]
  },
  {
   "cell_type": "code",
   "execution_count": 48,
   "metadata": {},
   "outputs": [
    {
     "name": "stdout",
     "output_type": "stream",
     "text": [
      "est peak pos = [  1.55496654   5.65442377  10.88476576  14.56014122]\n",
      "est peak hts = [ 170 5226  418   57]\n",
      "th01 = 2.75653158938\n",
      "poissonian probs from n=1,2...= [0.19970690196067434, 0.02582796623890183, 0.0022268762654623158]\n"
     ]
    },
    {
     "data": {
      "application/javascript": [
       "/* Put everything inside the global mpl namespace */\n",
       "window.mpl = {};\n",
       "\n",
       "\n",
       "mpl.get_websocket_type = function() {\n",
       "    if (typeof(WebSocket) !== 'undefined') {\n",
       "        return WebSocket;\n",
       "    } else if (typeof(MozWebSocket) !== 'undefined') {\n",
       "        return MozWebSocket;\n",
       "    } else {\n",
       "        alert('Your browser does not have WebSocket support.' +\n",
       "              'Please try Chrome, Safari or Firefox ≥ 6. ' +\n",
       "              'Firefox 4 and 5 are also supported but you ' +\n",
       "              'have to enable WebSockets in about:config.');\n",
       "    };\n",
       "}\n",
       "\n",
       "mpl.figure = function(figure_id, websocket, ondownload, parent_element) {\n",
       "    this.id = figure_id;\n",
       "\n",
       "    this.ws = websocket;\n",
       "\n",
       "    this.supports_binary = (this.ws.binaryType != undefined);\n",
       "\n",
       "    if (!this.supports_binary) {\n",
       "        var warnings = document.getElementById(\"mpl-warnings\");\n",
       "        if (warnings) {\n",
       "            warnings.style.display = 'block';\n",
       "            warnings.textContent = (\n",
       "                \"This browser does not support binary websocket messages. \" +\n",
       "                    \"Performance may be slow.\");\n",
       "        }\n",
       "    }\n",
       "\n",
       "    this.imageObj = new Image();\n",
       "\n",
       "    this.context = undefined;\n",
       "    this.message = undefined;\n",
       "    this.canvas = undefined;\n",
       "    this.rubberband_canvas = undefined;\n",
       "    this.rubberband_context = undefined;\n",
       "    this.format_dropdown = undefined;\n",
       "\n",
       "    this.image_mode = 'full';\n",
       "\n",
       "    this.root = $('<div/>');\n",
       "    this._root_extra_style(this.root)\n",
       "    this.root.attr('style', 'display: inline-block');\n",
       "\n",
       "    $(parent_element).append(this.root);\n",
       "\n",
       "    this._init_header(this);\n",
       "    this._init_canvas(this);\n",
       "    this._init_toolbar(this);\n",
       "\n",
       "    var fig = this;\n",
       "\n",
       "    this.waiting = false;\n",
       "\n",
       "    this.ws.onopen =  function () {\n",
       "            fig.send_message(\"supports_binary\", {value: fig.supports_binary});\n",
       "            fig.send_message(\"send_image_mode\", {});\n",
       "            if (mpl.ratio != 1) {\n",
       "                fig.send_message(\"set_dpi_ratio\", {'dpi_ratio': mpl.ratio});\n",
       "            }\n",
       "            fig.send_message(\"refresh\", {});\n",
       "        }\n",
       "\n",
       "    this.imageObj.onload = function() {\n",
       "            if (fig.image_mode == 'full') {\n",
       "                // Full images could contain transparency (where diff images\n",
       "                // almost always do), so we need to clear the canvas so that\n",
       "                // there is no ghosting.\n",
       "                fig.context.clearRect(0, 0, fig.canvas.width, fig.canvas.height);\n",
       "            }\n",
       "            fig.context.drawImage(fig.imageObj, 0, 0);\n",
       "        };\n",
       "\n",
       "    this.imageObj.onunload = function() {\n",
       "        this.ws.close();\n",
       "    }\n",
       "\n",
       "    this.ws.onmessage = this._make_on_message_function(this);\n",
       "\n",
       "    this.ondownload = ondownload;\n",
       "}\n",
       "\n",
       "mpl.figure.prototype._init_header = function() {\n",
       "    var titlebar = $(\n",
       "        '<div class=\"ui-dialog-titlebar ui-widget-header ui-corner-all ' +\n",
       "        'ui-helper-clearfix\"/>');\n",
       "    var titletext = $(\n",
       "        '<div class=\"ui-dialog-title\" style=\"width: 100%; ' +\n",
       "        'text-align: center; padding: 3px;\"/>');\n",
       "    titlebar.append(titletext)\n",
       "    this.root.append(titlebar);\n",
       "    this.header = titletext[0];\n",
       "}\n",
       "\n",
       "\n",
       "\n",
       "mpl.figure.prototype._canvas_extra_style = function(canvas_div) {\n",
       "\n",
       "}\n",
       "\n",
       "\n",
       "mpl.figure.prototype._root_extra_style = function(canvas_div) {\n",
       "\n",
       "}\n",
       "\n",
       "mpl.figure.prototype._init_canvas = function() {\n",
       "    var fig = this;\n",
       "\n",
       "    var canvas_div = $('<div/>');\n",
       "\n",
       "    canvas_div.attr('style', 'position: relative; clear: both; outline: 0');\n",
       "\n",
       "    function canvas_keyboard_event(event) {\n",
       "        return fig.key_event(event, event['data']);\n",
       "    }\n",
       "\n",
       "    canvas_div.keydown('key_press', canvas_keyboard_event);\n",
       "    canvas_div.keyup('key_release', canvas_keyboard_event);\n",
       "    this.canvas_div = canvas_div\n",
       "    this._canvas_extra_style(canvas_div)\n",
       "    this.root.append(canvas_div);\n",
       "\n",
       "    var canvas = $('<canvas/>');\n",
       "    canvas.addClass('mpl-canvas');\n",
       "    canvas.attr('style', \"left: 0; top: 0; z-index: 0; outline: 0\")\n",
       "\n",
       "    this.canvas = canvas[0];\n",
       "    this.context = canvas[0].getContext(\"2d\");\n",
       "\n",
       "    var backingStore = this.context.backingStorePixelRatio ||\n",
       "\tthis.context.webkitBackingStorePixelRatio ||\n",
       "\tthis.context.mozBackingStorePixelRatio ||\n",
       "\tthis.context.msBackingStorePixelRatio ||\n",
       "\tthis.context.oBackingStorePixelRatio ||\n",
       "\tthis.context.backingStorePixelRatio || 1;\n",
       "\n",
       "    mpl.ratio = (window.devicePixelRatio || 1) / backingStore;\n",
       "\n",
       "    var rubberband = $('<canvas/>');\n",
       "    rubberband.attr('style', \"position: absolute; left: 0; top: 0; z-index: 1;\")\n",
       "\n",
       "    var pass_mouse_events = true;\n",
       "\n",
       "    canvas_div.resizable({\n",
       "        start: function(event, ui) {\n",
       "            pass_mouse_events = false;\n",
       "        },\n",
       "        resize: function(event, ui) {\n",
       "            fig.request_resize(ui.size.width, ui.size.height);\n",
       "        },\n",
       "        stop: function(event, ui) {\n",
       "            pass_mouse_events = true;\n",
       "            fig.request_resize(ui.size.width, ui.size.height);\n",
       "        },\n",
       "    });\n",
       "\n",
       "    function mouse_event_fn(event) {\n",
       "        if (pass_mouse_events)\n",
       "            return fig.mouse_event(event, event['data']);\n",
       "    }\n",
       "\n",
       "    rubberband.mousedown('button_press', mouse_event_fn);\n",
       "    rubberband.mouseup('button_release', mouse_event_fn);\n",
       "    // Throttle sequential mouse events to 1 every 20ms.\n",
       "    rubberband.mousemove('motion_notify', mouse_event_fn);\n",
       "\n",
       "    rubberband.mouseenter('figure_enter', mouse_event_fn);\n",
       "    rubberband.mouseleave('figure_leave', mouse_event_fn);\n",
       "\n",
       "    canvas_div.on(\"wheel\", function (event) {\n",
       "        event = event.originalEvent;\n",
       "        event['data'] = 'scroll'\n",
       "        if (event.deltaY < 0) {\n",
       "            event.step = 1;\n",
       "        } else {\n",
       "            event.step = -1;\n",
       "        }\n",
       "        mouse_event_fn(event);\n",
       "    });\n",
       "\n",
       "    canvas_div.append(canvas);\n",
       "    canvas_div.append(rubberband);\n",
       "\n",
       "    this.rubberband = rubberband;\n",
       "    this.rubberband_canvas = rubberband[0];\n",
       "    this.rubberband_context = rubberband[0].getContext(\"2d\");\n",
       "    this.rubberband_context.strokeStyle = \"#000000\";\n",
       "\n",
       "    this._resize_canvas = function(width, height) {\n",
       "        // Keep the size of the canvas, canvas container, and rubber band\n",
       "        // canvas in synch.\n",
       "        canvas_div.css('width', width)\n",
       "        canvas_div.css('height', height)\n",
       "\n",
       "        canvas.attr('width', width * mpl.ratio);\n",
       "        canvas.attr('height', height * mpl.ratio);\n",
       "        canvas.attr('style', 'width: ' + width + 'px; height: ' + height + 'px;');\n",
       "\n",
       "        rubberband.attr('width', width);\n",
       "        rubberband.attr('height', height);\n",
       "    }\n",
       "\n",
       "    // Set the figure to an initial 600x600px, this will subsequently be updated\n",
       "    // upon first draw.\n",
       "    this._resize_canvas(600, 600);\n",
       "\n",
       "    // Disable right mouse context menu.\n",
       "    $(this.rubberband_canvas).bind(\"contextmenu\",function(e){\n",
       "        return false;\n",
       "    });\n",
       "\n",
       "    function set_focus () {\n",
       "        canvas.focus();\n",
       "        canvas_div.focus();\n",
       "    }\n",
       "\n",
       "    window.setTimeout(set_focus, 100);\n",
       "}\n",
       "\n",
       "mpl.figure.prototype._init_toolbar = function() {\n",
       "    var fig = this;\n",
       "\n",
       "    var nav_element = $('<div/>')\n",
       "    nav_element.attr('style', 'width: 100%');\n",
       "    this.root.append(nav_element);\n",
       "\n",
       "    // Define a callback function for later on.\n",
       "    function toolbar_event(event) {\n",
       "        return fig.toolbar_button_onclick(event['data']);\n",
       "    }\n",
       "    function toolbar_mouse_event(event) {\n",
       "        return fig.toolbar_button_onmouseover(event['data']);\n",
       "    }\n",
       "\n",
       "    for(var toolbar_ind in mpl.toolbar_items) {\n",
       "        var name = mpl.toolbar_items[toolbar_ind][0];\n",
       "        var tooltip = mpl.toolbar_items[toolbar_ind][1];\n",
       "        var image = mpl.toolbar_items[toolbar_ind][2];\n",
       "        var method_name = mpl.toolbar_items[toolbar_ind][3];\n",
       "\n",
       "        if (!name) {\n",
       "            // put a spacer in here.\n",
       "            continue;\n",
       "        }\n",
       "        var button = $('<button/>');\n",
       "        button.addClass('ui-button ui-widget ui-state-default ui-corner-all ' +\n",
       "                        'ui-button-icon-only');\n",
       "        button.attr('role', 'button');\n",
       "        button.attr('aria-disabled', 'false');\n",
       "        button.click(method_name, toolbar_event);\n",
       "        button.mouseover(tooltip, toolbar_mouse_event);\n",
       "\n",
       "        var icon_img = $('<span/>');\n",
       "        icon_img.addClass('ui-button-icon-primary ui-icon');\n",
       "        icon_img.addClass(image);\n",
       "        icon_img.addClass('ui-corner-all');\n",
       "\n",
       "        var tooltip_span = $('<span/>');\n",
       "        tooltip_span.addClass('ui-button-text');\n",
       "        tooltip_span.html(tooltip);\n",
       "\n",
       "        button.append(icon_img);\n",
       "        button.append(tooltip_span);\n",
       "\n",
       "        nav_element.append(button);\n",
       "    }\n",
       "\n",
       "    var fmt_picker_span = $('<span/>');\n",
       "\n",
       "    var fmt_picker = $('<select/>');\n",
       "    fmt_picker.addClass('mpl-toolbar-option ui-widget ui-widget-content');\n",
       "    fmt_picker_span.append(fmt_picker);\n",
       "    nav_element.append(fmt_picker_span);\n",
       "    this.format_dropdown = fmt_picker[0];\n",
       "\n",
       "    for (var ind in mpl.extensions) {\n",
       "        var fmt = mpl.extensions[ind];\n",
       "        var option = $(\n",
       "            '<option/>', {selected: fmt === mpl.default_extension}).html(fmt);\n",
       "        fmt_picker.append(option)\n",
       "    }\n",
       "\n",
       "    // Add hover states to the ui-buttons\n",
       "    $( \".ui-button\" ).hover(\n",
       "        function() { $(this).addClass(\"ui-state-hover\");},\n",
       "        function() { $(this).removeClass(\"ui-state-hover\");}\n",
       "    );\n",
       "\n",
       "    var status_bar = $('<span class=\"mpl-message\"/>');\n",
       "    nav_element.append(status_bar);\n",
       "    this.message = status_bar[0];\n",
       "}\n",
       "\n",
       "mpl.figure.prototype.request_resize = function(x_pixels, y_pixels) {\n",
       "    // Request matplotlib to resize the figure. Matplotlib will then trigger a resize in the client,\n",
       "    // which will in turn request a refresh of the image.\n",
       "    this.send_message('resize', {'width': x_pixels, 'height': y_pixels});\n",
       "}\n",
       "\n",
       "mpl.figure.prototype.send_message = function(type, properties) {\n",
       "    properties['type'] = type;\n",
       "    properties['figure_id'] = this.id;\n",
       "    this.ws.send(JSON.stringify(properties));\n",
       "}\n",
       "\n",
       "mpl.figure.prototype.send_draw_message = function() {\n",
       "    if (!this.waiting) {\n",
       "        this.waiting = true;\n",
       "        this.ws.send(JSON.stringify({type: \"draw\", figure_id: this.id}));\n",
       "    }\n",
       "}\n",
       "\n",
       "\n",
       "mpl.figure.prototype.handle_save = function(fig, msg) {\n",
       "    var format_dropdown = fig.format_dropdown;\n",
       "    var format = format_dropdown.options[format_dropdown.selectedIndex].value;\n",
       "    fig.ondownload(fig, format);\n",
       "}\n",
       "\n",
       "\n",
       "mpl.figure.prototype.handle_resize = function(fig, msg) {\n",
       "    var size = msg['size'];\n",
       "    if (size[0] != fig.canvas.width || size[1] != fig.canvas.height) {\n",
       "        fig._resize_canvas(size[0], size[1]);\n",
       "        fig.send_message(\"refresh\", {});\n",
       "    };\n",
       "}\n",
       "\n",
       "mpl.figure.prototype.handle_rubberband = function(fig, msg) {\n",
       "    var x0 = msg['x0'] / mpl.ratio;\n",
       "    var y0 = (fig.canvas.height - msg['y0']) / mpl.ratio;\n",
       "    var x1 = msg['x1'] / mpl.ratio;\n",
       "    var y1 = (fig.canvas.height - msg['y1']) / mpl.ratio;\n",
       "    x0 = Math.floor(x0) + 0.5;\n",
       "    y0 = Math.floor(y0) + 0.5;\n",
       "    x1 = Math.floor(x1) + 0.5;\n",
       "    y1 = Math.floor(y1) + 0.5;\n",
       "    var min_x = Math.min(x0, x1);\n",
       "    var min_y = Math.min(y0, y1);\n",
       "    var width = Math.abs(x1 - x0);\n",
       "    var height = Math.abs(y1 - y0);\n",
       "\n",
       "    fig.rubberband_context.clearRect(\n",
       "        0, 0, fig.canvas.width, fig.canvas.height);\n",
       "\n",
       "    fig.rubberband_context.strokeRect(min_x, min_y, width, height);\n",
       "}\n",
       "\n",
       "mpl.figure.prototype.handle_figure_label = function(fig, msg) {\n",
       "    // Updates the figure title.\n",
       "    fig.header.textContent = msg['label'];\n",
       "}\n",
       "\n",
       "mpl.figure.prototype.handle_cursor = function(fig, msg) {\n",
       "    var cursor = msg['cursor'];\n",
       "    switch(cursor)\n",
       "    {\n",
       "    case 0:\n",
       "        cursor = 'pointer';\n",
       "        break;\n",
       "    case 1:\n",
       "        cursor = 'default';\n",
       "        break;\n",
       "    case 2:\n",
       "        cursor = 'crosshair';\n",
       "        break;\n",
       "    case 3:\n",
       "        cursor = 'move';\n",
       "        break;\n",
       "    }\n",
       "    fig.rubberband_canvas.style.cursor = cursor;\n",
       "}\n",
       "\n",
       "mpl.figure.prototype.handle_message = function(fig, msg) {\n",
       "    fig.message.textContent = msg['message'];\n",
       "}\n",
       "\n",
       "mpl.figure.prototype.handle_draw = function(fig, msg) {\n",
       "    // Request the server to send over a new figure.\n",
       "    fig.send_draw_message();\n",
       "}\n",
       "\n",
       "mpl.figure.prototype.handle_image_mode = function(fig, msg) {\n",
       "    fig.image_mode = msg['mode'];\n",
       "}\n",
       "\n",
       "mpl.figure.prototype.updated_canvas_event = function() {\n",
       "    // Called whenever the canvas gets updated.\n",
       "    this.send_message(\"ack\", {});\n",
       "}\n",
       "\n",
       "// A function to construct a web socket function for onmessage handling.\n",
       "// Called in the figure constructor.\n",
       "mpl.figure.prototype._make_on_message_function = function(fig) {\n",
       "    return function socket_on_message(evt) {\n",
       "        if (evt.data instanceof Blob) {\n",
       "            /* FIXME: We get \"Resource interpreted as Image but\n",
       "             * transferred with MIME type text/plain:\" errors on\n",
       "             * Chrome.  But how to set the MIME type?  It doesn't seem\n",
       "             * to be part of the websocket stream */\n",
       "            evt.data.type = \"image/png\";\n",
       "\n",
       "            /* Free the memory for the previous frames */\n",
       "            if (fig.imageObj.src) {\n",
       "                (window.URL || window.webkitURL).revokeObjectURL(\n",
       "                    fig.imageObj.src);\n",
       "            }\n",
       "\n",
       "            fig.imageObj.src = (window.URL || window.webkitURL).createObjectURL(\n",
       "                evt.data);\n",
       "            fig.updated_canvas_event();\n",
       "            fig.waiting = false;\n",
       "            return;\n",
       "        }\n",
       "        else if (typeof evt.data === 'string' && evt.data.slice(0, 21) == \"data:image/png;base64\") {\n",
       "            fig.imageObj.src = evt.data;\n",
       "            fig.updated_canvas_event();\n",
       "            fig.waiting = false;\n",
       "            return;\n",
       "        }\n",
       "\n",
       "        var msg = JSON.parse(evt.data);\n",
       "        var msg_type = msg['type'];\n",
       "\n",
       "        // Call the  \"handle_{type}\" callback, which takes\n",
       "        // the figure and JSON message as its only arguments.\n",
       "        try {\n",
       "            var callback = fig[\"handle_\" + msg_type];\n",
       "        } catch (e) {\n",
       "            console.log(\"No handler for the '\" + msg_type + \"' message type: \", msg);\n",
       "            return;\n",
       "        }\n",
       "\n",
       "        if (callback) {\n",
       "            try {\n",
       "                // console.log(\"Handling '\" + msg_type + \"' message: \", msg);\n",
       "                callback(fig, msg);\n",
       "            } catch (e) {\n",
       "                console.log(\"Exception inside the 'handler_\" + msg_type + \"' callback:\", e, e.stack, msg);\n",
       "            }\n",
       "        }\n",
       "    };\n",
       "}\n",
       "\n",
       "// from http://stackoverflow.com/questions/1114465/getting-mouse-location-in-canvas\n",
       "mpl.findpos = function(e) {\n",
       "    //this section is from http://www.quirksmode.org/js/events_properties.html\n",
       "    var targ;\n",
       "    if (!e)\n",
       "        e = window.event;\n",
       "    if (e.target)\n",
       "        targ = e.target;\n",
       "    else if (e.srcElement)\n",
       "        targ = e.srcElement;\n",
       "    if (targ.nodeType == 3) // defeat Safari bug\n",
       "        targ = targ.parentNode;\n",
       "\n",
       "    // jQuery normalizes the pageX and pageY\n",
       "    // pageX,Y are the mouse positions relative to the document\n",
       "    // offset() returns the position of the element relative to the document\n",
       "    var x = e.pageX - $(targ).offset().left;\n",
       "    var y = e.pageY - $(targ).offset().top;\n",
       "\n",
       "    return {\"x\": x, \"y\": y};\n",
       "};\n",
       "\n",
       "/*\n",
       " * return a copy of an object with only non-object keys\n",
       " * we need this to avoid circular references\n",
       " * http://stackoverflow.com/a/24161582/3208463\n",
       " */\n",
       "function simpleKeys (original) {\n",
       "  return Object.keys(original).reduce(function (obj, key) {\n",
       "    if (typeof original[key] !== 'object')\n",
       "        obj[key] = original[key]\n",
       "    return obj;\n",
       "  }, {});\n",
       "}\n",
       "\n",
       "mpl.figure.prototype.mouse_event = function(event, name) {\n",
       "    var canvas_pos = mpl.findpos(event)\n",
       "\n",
       "    if (name === 'button_press')\n",
       "    {\n",
       "        this.canvas.focus();\n",
       "        this.canvas_div.focus();\n",
       "    }\n",
       "\n",
       "    var x = canvas_pos.x * mpl.ratio;\n",
       "    var y = canvas_pos.y * mpl.ratio;\n",
       "\n",
       "    this.send_message(name, {x: x, y: y, button: event.button,\n",
       "                             step: event.step,\n",
       "                             guiEvent: simpleKeys(event)});\n",
       "\n",
       "    /* This prevents the web browser from automatically changing to\n",
       "     * the text insertion cursor when the button is pressed.  We want\n",
       "     * to control all of the cursor setting manually through the\n",
       "     * 'cursor' event from matplotlib */\n",
       "    event.preventDefault();\n",
       "    return false;\n",
       "}\n",
       "\n",
       "mpl.figure.prototype._key_event_extra = function(event, name) {\n",
       "    // Handle any extra behaviour associated with a key event\n",
       "}\n",
       "\n",
       "mpl.figure.prototype.key_event = function(event, name) {\n",
       "\n",
       "    // Prevent repeat events\n",
       "    if (name == 'key_press')\n",
       "    {\n",
       "        if (event.which === this._key)\n",
       "            return;\n",
       "        else\n",
       "            this._key = event.which;\n",
       "    }\n",
       "    if (name == 'key_release')\n",
       "        this._key = null;\n",
       "\n",
       "    var value = '';\n",
       "    if (event.ctrlKey && event.which != 17)\n",
       "        value += \"ctrl+\";\n",
       "    if (event.altKey && event.which != 18)\n",
       "        value += \"alt+\";\n",
       "    if (event.shiftKey && event.which != 16)\n",
       "        value += \"shift+\";\n",
       "\n",
       "    value += 'k';\n",
       "    value += event.which.toString();\n",
       "\n",
       "    this._key_event_extra(event, name);\n",
       "\n",
       "    this.send_message(name, {key: value,\n",
       "                             guiEvent: simpleKeys(event)});\n",
       "    return false;\n",
       "}\n",
       "\n",
       "mpl.figure.prototype.toolbar_button_onclick = function(name) {\n",
       "    if (name == 'download') {\n",
       "        this.handle_save(this, null);\n",
       "    } else {\n",
       "        this.send_message(\"toolbar_button\", {name: name});\n",
       "    }\n",
       "};\n",
       "\n",
       "mpl.figure.prototype.toolbar_button_onmouseover = function(tooltip) {\n",
       "    this.message.textContent = tooltip;\n",
       "};\n",
       "mpl.toolbar_items = [[\"Home\", \"Reset original view\", \"fa fa-home icon-home\", \"home\"], [\"Back\", \"Back to  previous view\", \"fa fa-arrow-left icon-arrow-left\", \"back\"], [\"Forward\", \"Forward to next view\", \"fa fa-arrow-right icon-arrow-right\", \"forward\"], [\"\", \"\", \"\", \"\"], [\"Pan\", \"Pan axes with left mouse, zoom with right\", \"fa fa-arrows icon-move\", \"pan\"], [\"Zoom\", \"Zoom to rectangle\", \"fa fa-square-o icon-check-empty\", \"zoom\"], [\"\", \"\", \"\", \"\"], [\"Download\", \"Download plot\", \"fa fa-floppy-o icon-save\", \"download\"]];\n",
       "\n",
       "mpl.extensions = [\"eps\", \"pdf\", \"png\", \"ps\", \"raw\", \"svg\"];\n",
       "\n",
       "mpl.default_extension = \"png\";var comm_websocket_adapter = function(comm) {\n",
       "    // Create a \"websocket\"-like object which calls the given IPython comm\n",
       "    // object with the appropriate methods. Currently this is a non binary\n",
       "    // socket, so there is still some room for performance tuning.\n",
       "    var ws = {};\n",
       "\n",
       "    ws.close = function() {\n",
       "        comm.close()\n",
       "    };\n",
       "    ws.send = function(m) {\n",
       "        //console.log('sending', m);\n",
       "        comm.send(m);\n",
       "    };\n",
       "    // Register the callback with on_msg.\n",
       "    comm.on_msg(function(msg) {\n",
       "        //console.log('receiving', msg['content']['data'], msg);\n",
       "        // Pass the mpl event to the overriden (by mpl) onmessage function.\n",
       "        ws.onmessage(msg['content']['data'])\n",
       "    });\n",
       "    return ws;\n",
       "}\n",
       "\n",
       "mpl.mpl_figure_comm = function(comm, msg) {\n",
       "    // This is the function which gets called when the mpl process\n",
       "    // starts-up an IPython Comm through the \"matplotlib\" channel.\n",
       "\n",
       "    var id = msg.content.data.id;\n",
       "    // Get hold of the div created by the display call when the Comm\n",
       "    // socket was opened in Python.\n",
       "    var element = $(\"#\" + id);\n",
       "    var ws_proxy = comm_websocket_adapter(comm)\n",
       "\n",
       "    function ondownload(figure, format) {\n",
       "        window.open(figure.imageObj.src);\n",
       "    }\n",
       "\n",
       "    var fig = new mpl.figure(id, ws_proxy,\n",
       "                           ondownload,\n",
       "                           element.get(0));\n",
       "\n",
       "    // Call onopen now - mpl needs it, as it is assuming we've passed it a real\n",
       "    // web socket which is closed, not our websocket->open comm proxy.\n",
       "    ws_proxy.onopen();\n",
       "\n",
       "    fig.parent_element = element.get(0);\n",
       "    fig.cell_info = mpl.find_output_cell(\"<div id='\" + id + \"'></div>\");\n",
       "    if (!fig.cell_info) {\n",
       "        console.error(\"Failed to find cell for figure\", id, fig);\n",
       "        return;\n",
       "    }\n",
       "\n",
       "    var output_index = fig.cell_info[2]\n",
       "    var cell = fig.cell_info[0];\n",
       "\n",
       "};\n",
       "\n",
       "mpl.figure.prototype.handle_close = function(fig, msg) {\n",
       "    var width = fig.canvas.width/mpl.ratio\n",
       "    fig.root.unbind('remove')\n",
       "\n",
       "    // Update the output cell to use the data from the current canvas.\n",
       "    fig.push_to_output();\n",
       "    var dataURL = fig.canvas.toDataURL();\n",
       "    // Re-enable the keyboard manager in IPython - without this line, in FF,\n",
       "    // the notebook keyboard shortcuts fail.\n",
       "    IPython.keyboard_manager.enable()\n",
       "    $(fig.parent_element).html('<img src=\"' + dataURL + '\" width=\"' + width + '\">');\n",
       "    fig.close_ws(fig, msg);\n",
       "}\n",
       "\n",
       "mpl.figure.prototype.close_ws = function(fig, msg){\n",
       "    fig.send_message('closing', msg);\n",
       "    // fig.ws.close()\n",
       "}\n",
       "\n",
       "mpl.figure.prototype.push_to_output = function(remove_interactive) {\n",
       "    // Turn the data on the canvas into data in the output cell.\n",
       "    var width = this.canvas.width/mpl.ratio\n",
       "    var dataURL = this.canvas.toDataURL();\n",
       "    this.cell_info[1]['text/html'] = '<img src=\"' + dataURL + '\" width=\"' + width + '\">';\n",
       "}\n",
       "\n",
       "mpl.figure.prototype.updated_canvas_event = function() {\n",
       "    // Tell IPython that the notebook contents must change.\n",
       "    IPython.notebook.set_dirty(true);\n",
       "    this.send_message(\"ack\", {});\n",
       "    var fig = this;\n",
       "    // Wait a second, then push the new image to the DOM so\n",
       "    // that it is saved nicely (might be nice to debounce this).\n",
       "    setTimeout(function () { fig.push_to_output() }, 1000);\n",
       "}\n",
       "\n",
       "mpl.figure.prototype._init_toolbar = function() {\n",
       "    var fig = this;\n",
       "\n",
       "    var nav_element = $('<div/>')\n",
       "    nav_element.attr('style', 'width: 100%');\n",
       "    this.root.append(nav_element);\n",
       "\n",
       "    // Define a callback function for later on.\n",
       "    function toolbar_event(event) {\n",
       "        return fig.toolbar_button_onclick(event['data']);\n",
       "    }\n",
       "    function toolbar_mouse_event(event) {\n",
       "        return fig.toolbar_button_onmouseover(event['data']);\n",
       "    }\n",
       "\n",
       "    for(var toolbar_ind in mpl.toolbar_items){\n",
       "        var name = mpl.toolbar_items[toolbar_ind][0];\n",
       "        var tooltip = mpl.toolbar_items[toolbar_ind][1];\n",
       "        var image = mpl.toolbar_items[toolbar_ind][2];\n",
       "        var method_name = mpl.toolbar_items[toolbar_ind][3];\n",
       "\n",
       "        if (!name) { continue; };\n",
       "\n",
       "        var button = $('<button class=\"btn btn-default\" href=\"#\" title=\"' + name + '\"><i class=\"fa ' + image + ' fa-lg\"></i></button>');\n",
       "        button.click(method_name, toolbar_event);\n",
       "        button.mouseover(tooltip, toolbar_mouse_event);\n",
       "        nav_element.append(button);\n",
       "    }\n",
       "\n",
       "    // Add the status bar.\n",
       "    var status_bar = $('<span class=\"mpl-message\" style=\"text-align:right; float: right;\"/>');\n",
       "    nav_element.append(status_bar);\n",
       "    this.message = status_bar[0];\n",
       "\n",
       "    // Add the close button to the window.\n",
       "    var buttongrp = $('<div class=\"btn-group inline pull-right\"></div>');\n",
       "    var button = $('<button class=\"btn btn-mini btn-primary\" href=\"#\" title=\"Stop Interaction\"><i class=\"fa fa-power-off icon-remove icon-large\"></i></button>');\n",
       "    button.click(function (evt) { fig.handle_close(fig, {}); } );\n",
       "    button.mouseover('Stop Interaction', toolbar_mouse_event);\n",
       "    buttongrp.append(button);\n",
       "    var titlebar = this.root.find($('.ui-dialog-titlebar'));\n",
       "    titlebar.prepend(buttongrp);\n",
       "}\n",
       "\n",
       "mpl.figure.prototype._root_extra_style = function(el){\n",
       "    var fig = this\n",
       "    el.on(\"remove\", function(){\n",
       "\tfig.close_ws(fig, {});\n",
       "    });\n",
       "}\n",
       "\n",
       "mpl.figure.prototype._canvas_extra_style = function(el){\n",
       "    // this is important to make the div 'focusable\n",
       "    el.attr('tabindex', 0)\n",
       "    // reach out to IPython and tell the keyboard manager to turn it's self\n",
       "    // off when our div gets focus\n",
       "\n",
       "    // location in version 3\n",
       "    if (IPython.notebook.keyboard_manager) {\n",
       "        IPython.notebook.keyboard_manager.register_events(el);\n",
       "    }\n",
       "    else {\n",
       "        // location in version 2\n",
       "        IPython.keyboard_manager.register_events(el);\n",
       "    }\n",
       "\n",
       "}\n",
       "\n",
       "mpl.figure.prototype._key_event_extra = function(event, name) {\n",
       "    var manager = IPython.notebook.keyboard_manager;\n",
       "    if (!manager)\n",
       "        manager = IPython.keyboard_manager;\n",
       "\n",
       "    // Check for shift+enter\n",
       "    if (event.shiftKey && event.which == 13) {\n",
       "        this.canvas_div.blur();\n",
       "        // select the cell after this one\n",
       "        var index = IPython.notebook.find_cell_index(this.cell_info[0]);\n",
       "        IPython.notebook.select(index + 1);\n",
       "    }\n",
       "}\n",
       "\n",
       "mpl.figure.prototype.handle_save = function(fig, msg) {\n",
       "    fig.ondownload(fig, null);\n",
       "}\n",
       "\n",
       "\n",
       "mpl.find_output_cell = function(html_output) {\n",
       "    // Return the cell and output element which can be found *uniquely* in the notebook.\n",
       "    // Note - this is a bit hacky, but it is done because the \"notebook_saving.Notebook\"\n",
       "    // IPython event is triggered only after the cells have been serialised, which for\n",
       "    // our purposes (turning an active figure into a static one), is too late.\n",
       "    var cells = IPython.notebook.get_cells();\n",
       "    var ncells = cells.length;\n",
       "    for (var i=0; i<ncells; i++) {\n",
       "        var cell = cells[i];\n",
       "        if (cell.cell_type === 'code'){\n",
       "            for (var j=0; j<cell.output_area.outputs.length; j++) {\n",
       "                var data = cell.output_area.outputs[j];\n",
       "                if (data.data) {\n",
       "                    // IPython >= 3 moved mimebundle to data attribute of output\n",
       "                    data = data.data;\n",
       "                }\n",
       "                if (data['text/html'] == html_output) {\n",
       "                    return [cell, data, j];\n",
       "                }\n",
       "            }\n",
       "        }\n",
       "    }\n",
       "}\n",
       "\n",
       "// Register the function which deals with the matplotlib target/channel.\n",
       "// The kernel may be null if the page has been refreshed.\n",
       "if (IPython.notebook.kernel != null) {\n",
       "    IPython.notebook.kernel.comm_manager.register_target('matplotlib', mpl.mpl_figure_comm);\n",
       "}\n"
      ],
      "text/plain": [
       "<IPython.core.display.Javascript object>"
      ]
     },
     "metadata": {},
     "output_type": "display_data"
    },
    {
     "data": {
      "text/html": [
       "<img src=\"data:image/png;base64,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\" width=\"999.999985098839\">"
      ],
      "text/plain": [
       "<IPython.core.display.HTML object>"
      ]
     },
     "metadata": {},
     "output_type": "display_data"
    },
    {
     "name": "stdout",
     "output_type": "stream",
     "text": [
      "[[Model]]\n",
      "    ((Model(gaussian, prefix='g1_') + Model(gaussian, prefix='g2_')) + Model(gaussian, prefix='g3_'))\n",
      "[[Variables]]\n",
      "    n_bar:          0.25865872 (init= 0.2)\n",
      "    A:              56248.7552 (init= 15678)\n",
      "    Delta_E:        50.6311129 (init= 3.675375)\n",
      "    sigma_p:        0.91656977 (init= 0.6752372)\n",
      "    g1_center:      5.63692591 (init= 5.654424)\n",
      "    g2_center:      11.0597136 (init= 10.88477)\n",
      "    g3_center:      16.1250003 (init= 14.56014)\n",
      "    g1_amplitude:   11233.2646  == 'A * exp(-n_bar) * n_bar**1 / factorial(1)'\n",
      "    g2_amplitude:   1452.79095  == 'A * exp(-n_bar) * n_bar**2 / factorial(2)'\n",
      "    g3_amplitude:   125.259017  == 'A * exp(-n_bar) * n_bar**3 / factorial(3)'\n",
      "    g1_sigma:       0.91656977  == 'sigma_p * sqrt(1)'\n",
      "    g2_sigma:       1.29622541  == 'sigma_p * sqrt(2)'\n",
      "    g3_sigma:       1.58754542  == 'sigma_p * sqrt(3)'\n",
      "\n"
     ]
    }
   ],
   "source": [
    "%matplotlib notebook\n",
    "reload(thres)\n",
    "result = thres.gauss_fit_poiss_ph_region(area_distribution,\n",
    "                                          min_peak_sep=3, \n",
    "                                          threshold=5e-3, \n",
    "                                          weighted=True,\n",
    "                                          plot=True)\n",
    "result.plot_fit()\n",
    "plt.title('Area (within Discriminator) Distribution')\n",
    "plt.ylim(0,8000)\n",
    "plt.xlim(0,16)\n",
    "plt.show()"
   ]
  },
  {
   "cell_type": "code",
   "execution_count": 35,
   "metadata": {},
   "outputs": [
    {
     "data": {
      "text/plain": [
       "0.25865872421362579"
      ]
     },
     "execution_count": 35,
     "metadata": {},
     "output_type": "execute_result"
    }
   ],
   "source": [
    "result.params.valuesdict()['n_bar']"
   ]
  },
  {
   "cell_type": "code",
   "execution_count": 30,
   "metadata": {},
   "outputs": [
    {
     "name": "stdout",
     "output_type": "stream",
     "text": [
      "1.96201152484\n",
      "1.45799438425\n"
     ]
    }
   ],
   "source": [
    "print result.best_values['g2_center']/result.best_values['g1_center']\n",
    "print result.best_values['g3_center']/result.best_values['g2_center']\n",
    "# 8.55/result.best_values['g1_center']"
   ]
  },
  {
   "cell_type": "code",
   "execution_count": 31,
   "metadata": {
    "collapsed": true
   },
   "outputs": [],
   "source": [
    "th01 = 2.75653158938\n",
    "# th01 = 2.45252376071"
   ]
  },
  {
   "cell_type": "code",
   "execution_count": 49,
   "metadata": {},
   "outputs": [
    {
     "name": "stdout",
     "output_type": "stream",
     "text": [
      "est peak pos = [  1.55496654   5.65442377  10.88476576  14.56014122]\n",
      "est peak hts = [ 170 5226  418   57]\n",
      "th01 = 2.75653158938\n",
      "poissonian probs from n=1,2...= [0.19970690196067434, 0.02582796623890183, 0.0022268762654623158]\n",
      "at threshold 7.96020232006 between 5.63692591162 and 11.0597136033:\n",
      "prob signal lost = 0.00839710546365\n",
      "prob noise enters = 0.00562635969086\n",
      "at threshold 13.4174296449 between 11.0597136033 and 16.125000325:\n",
      "prob signal lost = 0.0440499043631\n",
      "prob noise enters = 0.0344626587838\n",
      "[7.9602023200581318, 13.417429644926635]\n"
     ]
    }
   ],
   "source": [
    "reload(thres)\n",
    "thresholds = thres.thresholds_N(area_distribution,\n",
    "                              min_peak_sep=3, \n",
    "                              threshold=5e-3, \n",
    "                              weighted=True)\n",
    "print thresholds\n",
    "ax = plt.gca(); map(lambda t: ax.axvline(t, linestyle='--'),thresholds); #plot thresholds in area distribution"
   ]
  },
  {
   "cell_type": "code",
   "execution_count": 33,
   "metadata": {
    "collapsed": true
   },
   "outputs": [],
   "source": [
    "frequencies ,bins = histogram(area_distribution)\n",
    "comps = result.eval_components(x=bins)"
   ]
  },
  {
   "cell_type": "code",
   "execution_count": 34,
   "metadata": {
    "collapsed": true
   },
   "outputs": [],
   "source": [
    "np.savetxt('pnr_area_disc.dat',histogram(area_distribution))\n",
    "np.savetxt('g1_area_component.dat',comps['g1_'])\n",
    "np.savetxt('g2_area_component.dat',comps['g2_'])\n",
    "np.savetxt('g3_area_component.dat',comps['g3_'])\n",
    "with open('pnr_area_readme.dat','a+') as fp:\n",
    "    fp.write('a_th01 = {}\\n a_th12 = {}\\n a_th23 = {}\\nsamples = {}'.format(th01,thresholds[0],thresholds[1],sample_size))\n",
    "fp.close()"
   ]
  },
  {
   "cell_type": "code",
   "execution_count": 35,
   "metadata": {
    "collapsed": true
   },
   "outputs": [],
   "source": [
    "bins = 200\n",
    "area_above_threshold = trace_parameters['area']\n",
    "area_above_threshold_distribution = np.histogram(area_above_threshold, bins) \n",
    "frequencies, bins = histogram(area_above_threshold_distribution)\n",
    "np.savetxt('pnr_area_above_th.dat',histogram(area_above_threshold_distribution))"
   ]
  },
  {
   "cell_type": "markdown",
   "metadata": {},
   "source": [
    "# Photon Number Masks\n",
    "* creates mask for photon numbers"
   ]
  },
  {
   "cell_type": "code",
   "execution_count": 36,
   "metadata": {
    "collapsed": true
   },
   "outputs": [],
   "source": [
    "# th_areas = np.loadtxt(results_directory+'th_areas_from_min_overlap.dat')\n",
    "# [th01, th12, th23] = th_areas"
   ]
  },
  {
   "cell_type": "code",
   "execution_count": 37,
   "metadata": {
    "collapsed": true
   },
   "outputs": [],
   "source": [
    "mask_0ph = (area < th01)"
   ]
  },
  {
   "cell_type": "code",
   "execution_count": 38,
   "metadata": {
    "collapsed": true
   },
   "outputs": [],
   "source": [
    "# single photon mask: \n",
    "# within 2 std deviations of mean single-photon area to exclude outliers corresponding to more false positives \n",
    "mask_1ph = (area > result.best_values['g1_center']-2*result.best_values['g1_sigma'])&\\\n",
    "           (area < result.best_values['g1_center']+2*result.best_values['g1_sigma'])\n",
    "# two photon mask:\n",
    "# within thresholds corresponding to minimal overlap between n=1 and n=3 photons\n",
    "mask_2ph = (area > thresholds[0])&(area < thresholds[1])\n",
    "# mask_2ph = (area > result.best_values['g2_center']-2*result.best_values['g2_sigma'])&\\\n",
    "#            (area < result.best_values['g2_center']+2*result.best_values['g2_sigma'])\n",
    "# mask_2ph = (area >= 7.95798869853)&(area <= 14)\n",
    "# mask_2ph = (area>th12)&(area<th23)"
   ]
  },
  {
   "cell_type": "code",
   "execution_count": 39,
   "metadata": {},
   "outputs": [
    {
     "name": "stdout",
     "output_type": "stream",
     "text": [
      "10706\n"
     ]
    }
   ],
   "source": [
    "print sum(mask_2ph)"
   ]
  },
  {
   "cell_type": "markdown",
   "metadata": {},
   "source": [
    "# Save filelists and fit results"
   ]
  },
  {
   "cell_type": "code",
   "execution_count": 40,
   "metadata": {
    "collapsed": true
   },
   "outputs": [],
   "source": [
    "# saves filelist of n = 0, 1, 2 photons\n",
    "hpa.append2file(results_directory + 'filelist_zero_photon.dat',\"\\n\".join(filelist[mask_0ph]))\n",
    "hpa.append2file(results_directory + 'filelist_single_photon.dat',\"\\n\".join(filelist[mask_1ph]))\n",
    "hpa.append2file(results_directory + 'filelist_two_photon.dat',\"\\n\".join(filelist[mask_2ph]))"
   ]
  },
  {
   "cell_type": "code",
   "execution_count": 41,
   "metadata": {
    "collapsed": true
   },
   "outputs": [],
   "source": [
    "# saves fit results of area distribution\n",
    "f = open(results_directory + 'area_distribution_lmfit_result.dat','wb')\n",
    "pickle.dump(result,f)\n",
    "f.close()"
   ]
  },
  {
   "cell_type": "code",
   "execution_count": 42,
   "metadata": {
    "collapsed": true
   },
   "outputs": [],
   "source": [
    "# saves thresholds(point of minimal overlap) between number distributions \n",
    "th_areas_from_min_overlap = np.array(np.insert(thresholds,0,th01))\n",
    "np.savetxt(results_directory+'th_areas_from_min_overlap.dat',th_areas_from_min_overlap,header='\\t'.join(['th01,th12,th23']))"
   ]
  },
  {
   "cell_type": "code",
   "execution_count": 43,
   "metadata": {
    "collapsed": true
   },
   "outputs": [],
   "source": [
    "# saves whole filelist and trace parameters for future reference\n",
    "hpa.append2file(results_directory + 'filelist.dat',\"\\n\".join(filelist))\n",
    "np.savetxt(results_directory + 'trace_params.dat',trace_parameters,header=\"\\t\".join(trace_parameters.dtype.names))"
   ]
  },
  {
   "cell_type": "code",
   "execution_count": 44,
   "metadata": {
    "collapsed": true
   },
   "outputs": [],
   "source": [
    "# saves fit result of height distribution\n",
    "g = open(results_directory + 'height_distribution_lmfit_result_height_th_{}.dat'.format(height_th),'wb')\n",
    "pickle.dump(result_height,g)\n",
    "g.close()"
   ]
  },
  {
   "cell_type": "markdown",
   "metadata": {},
   "source": [
    "# Calculate RMS noise of n=0 traces"
   ]
  },
  {
   "cell_type": "code",
   "execution_count": 45,
   "metadata": {
    "collapsed": true
   },
   "outputs": [],
   "source": [
    "a = np.genfromtxt(results_directory + 'filelist_zero_photon.dat', delimiter='\\n',dtype='string')"
   ]
  },
  {
   "cell_type": "code",
   "execution_count": 46,
   "metadata": {},
   "outputs": [
    {
     "data": {
      "text/plain": [
       "('area_win', 'area', 'height', 'rms')"
      ]
     },
     "execution_count": 46,
     "metadata": {},
     "output_type": "execute_result"
    }
   ],
   "source": [
    "trace_parameters.dtype.names"
   ]
  },
  {
   "cell_type": "code",
   "execution_count": 47,
   "metadata": {},
   "outputs": [
    {
     "name": "stdout",
     "output_type": "stream",
     "text": [
      "0.00180058629476\n"
     ]
    }
   ],
   "source": [
    "rms = np.mean(trace_parameters['rms'][mask_0ph])\n",
    "np.savetxt(results_directory + 'rms.dat', \n",
    "           [rms],\n",
    "           header='rms')\n",
    "print rms"
   ]
  },
  {
   "cell_type": "code",
   "execution_count": null,
   "metadata": {
    "collapsed": true
   },
   "outputs": [],
   "source": []
  }
 ],
 "metadata": {
  "kernelspec": {
   "display_name": "Python 2",
   "language": "python",
   "name": "python2"
  },
  "language_info": {
   "codemirror_mode": {
    "name": "ipython",
    "version": 2
   },
   "file_extension": ".py",
   "mimetype": "text/x-python",
   "name": "python",
   "nbconvert_exporter": "python",
   "pygments_lexer": "ipython2",
   "version": "2.7.12"
  }
 },
 "nbformat": 4,
 "nbformat_minor": 2
}
