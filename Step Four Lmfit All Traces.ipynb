{
 "cells": [
  {
   "cell_type": "code",
   "execution_count": 1,
   "metadata": {
    "collapsed": true
   },
   "outputs": [],
   "source": [
    "from __future__ import division\n",
    "import tqdm\n",
    "import os\n",
    "import sys\n",
    "sys.path.append('/mnt/disk0/home/jianwei_leejw/scripts/TESPulseFitCode')\n",
    "# sys.path.append('/workspace/projects/TES/scripts')\n",
    "import numpy as np\n",
    "import matplotlib\n",
    "# matplotlib.use('nbAgg')\n",
    "%matplotlib inline\n",
    "import matplotlib.pyplot as plt\n",
    "import glob\n",
    "from lmfit import Model, Parameters\n",
    "# import seaborn\n",
    "import pickle\n",
    "\n",
    "import pulse_utils as pu\n",
    "import discriminator as disc\n",
    "import discriminator_edges as disc_edges\n",
    "import trace_param as trcp\n",
    "import pulse_fit_powell as pfp\n",
    "import pulse_fit_bulk_process as pfbulk"
   ]
  },
  {
   "cell_type": "code",
   "execution_count": 2,
   "metadata": {
    "collapsed": true
   },
   "outputs": [],
   "source": [
    "results_directory = './'"
   ]
  },
  {
   "cell_type": "code",
   "execution_count": 3,
   "metadata": {},
   "outputs": [
    {
     "name": "stdout",
     "output_type": "stream",
     "text": [
      "0.00794093643656 650\n"
     ]
    }
   ],
   "source": [
    "# Loads Trace Parameters\n",
    "[height_th, offset] = np.loadtxt(results_directory + 'disc_settings.dat')\n",
    "offset = int(offset)\n",
    "print height_th, offset"
   ]
  },
  {
   "cell_type": "code",
   "execution_count": 4,
   "metadata": {},
   "outputs": [
    {
     "name": "stdout",
     "output_type": "stream",
     "text": [
      "0.00180058629476\n"
     ]
    }
   ],
   "source": [
    "sigma0 = np.loadtxt(results_directory + 'rms.dat')\n",
    "print sigma0"
   ]
  },
  {
   "cell_type": "code",
   "execution_count": 5,
   "metadata": {},
   "outputs": [
    {
     "name": "stdout",
     "output_type": "stream",
     "text": [
      "[  1.41215309   1.96201152   2.38027426  18.9113961   -0.48406059\n",
      "   0.48406059  18.9113961 ]\n"
     ]
    }
   ],
   "source": [
    "# Loads Pulse (fitting) Parameters\n",
    "pulse_params =np.genfromtxt(results_directory + 'sum_and_diff_fit_params.dat',\n",
    "                            delimiter=\"\\t\",\n",
    "                            )\n",
    "print pulse_params"
   ]
  },
  {
   "cell_type": "code",
   "execution_count": 6,
   "metadata": {
    "collapsed": true
   },
   "outputs": [],
   "source": [
    "# Loads Two Photon Model\n",
    "pkl_file = open(results_directory + 'two_pulse_fit_model.dat', 'rb')\n",
    "two_pulse_fit = pickle.load(pkl_file)"
   ]
  },
  {
   "cell_type": "code",
   "execution_count": 7,
   "metadata": {},
   "outputs": [
    {
     "name": "stdout",
     "output_type": "stream",
     "text": [
      "10706\n"
     ]
    }
   ],
   "source": [
    "# imports Two Photon filelist\n",
    "tasks = np.genfromtxt(results_directory + 'filelist_two_photon.dat', delimiter=',',dtype='string')\n",
    "# tasks = np.genfromtxt(results_directory + 'filelist_13.dat', delimiter=',',dtype='string')\n",
    "print len(tasks)"
   ]
  },
  {
   "cell_type": "code",
   "execution_count": 8,
   "metadata": {},
   "outputs": [
    {
     "name": "stdout",
     "output_type": "stream",
     "text": [
      "[[Model]]\n",
      "    (Model(one_pulse, prefix='one_') + Model(one_pulse, prefix='two_'))\n",
      "[[Variables]]\n",
      "    one_x_offset:      3.0735e-06 (init= 3.041253e-06)\n",
      "    two_x_offset:      3.2956e-06 (init= 3.757253e-06)\n",
      "    sum_amplitudes:    2.06701927 (init= 1.981632)\n",
      "    diff_amplitudes:  -0.24712472 (init= 0)\n",
      "    one_amplitude:     0.90994727  == '(sum_amplitudes + diff_amplitudes)/2'\n",
      "    two_amplitude:     1.15707199  == '(sum_amplitudes - diff_amplitudes)/2'\n",
      "\n"
     ]
    },
    {
     "data": {
      "text/plain": [
       "(0, 0.035191288625774066)"
      ]
     },
     "execution_count": 8,
     "metadata": {},
     "output_type": "execute_result"
    },
    {
     "data": {
      "image/png": "[encoded data removed]",
      "text/plain": [
       "<matplotlib.figure.Figure at 0x7f1e3315b3d0>"
      ]
     },
     "metadata": {},
     "output_type": "display_data"
    }
   ],
   "source": [
    "# tests fit for one interesting plot\n",
    "reload(pfp)\n",
    "fl = np.genfromtxt('/mnt/disk1/analysis/20170523_TES5_75mK_95uA_trise_115ns_results/interesting_traces_220_to_240ns.txt', delimiter='\\n',dtype='string')\n",
    "fname = fl[8]\n",
    "# fname = '/mnt/disk1/data/20170523_TES5_75mK_95uA_trise_115ns/doubles/C2doubles10627.trc'\n",
    "time = pu.time_vector(fname)\n",
    "signal = trcp.trace_extr(fname,height_th)\n",
    "r = pfp.fit_two_cw(time,signal,\n",
    "              two_pulse_fit,\n",
    "              pulse_params,\n",
    "              height_th,\n",
    "              sigma0)\n",
    "r.plot_fit(data_kws={'marker':'.','alpha':0.5})\n",
    "print r.fit_report()\n",
    "plt.ylim(0,np.max(signal)*1.2)"
   ]
  },
  {
   "cell_type": "code",
   "execution_count": 9,
   "metadata": {
    "collapsed": true
   },
   "outputs": [],
   "source": [
    "# lmfit (multiprocess) traces\n",
    "cores = 23\n",
    "reload(pfbulk)\n",
    "reload(pfp)\n",
    "pfbulk.run_fit_two_poolable(\n",
    "    results_directory+\\\n",
    "    'results_newdisc_fixed_again_with_offset_extended_rejection.csv',\n",
    "    cores,\n",
    "    tasks,\n",
    "    two_pulse_fit, pulse_params, height_th, sigma0)"
   ]
  },
  {
   "cell_type": "code",
   "execution_count": null,
   "metadata": {
    "collapsed": true
   },
   "outputs": [],
   "source": []
  }
 ],
 "metadata": {
  "kernelspec": {
   "display_name": "Python 2",
   "language": "python",
   "name": "python2"
  },
  "language_info": {
   "codemirror_mode": {
    "name": "ipython",
    "version": 2
   },
   "file_extension": ".py",
   "mimetype": "text/x-python",
   "name": "python",
   "nbconvert_exporter": "python",
   "pygments_lexer": "ipython2",
   "version": "2.7.12"
  }
 },
 "nbformat": 4,
 "nbformat_minor": 2
}
