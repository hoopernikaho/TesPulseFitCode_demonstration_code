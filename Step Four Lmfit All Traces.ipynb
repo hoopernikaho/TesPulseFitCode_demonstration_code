{
 "cells": [
  {
   "cell_type": "code",
   "execution_count": 17,
   "metadata": {},
   "outputs": [],
   "source": [
    "from __future__ import division\n",
    "import tqdm\n",
    "import os\n",
    "import sys\n",
    "sys.path.append('/mnt/disk0/home/jianwei_leejw/scripts/TESPulseFitCode')\n",
    "# sys.path.append('/workspace/projects/TES/scripts')\n",
    "import numpy as np\n",
    "import matplotlib\n",
    "# matplotlib.use('nbAgg')\n",
    "%matplotlib inline\n",
    "import matplotlib.pyplot as plt\n",
    "import glob\n",
    "from lmfit import Model, Parameters\n",
    "# import seaborn\n",
    "import pickle\n",
    "\n",
    "import pulse_utils as pu\n",
    "import discriminator as disc\n",
    "import discriminator_edges as disc_edges\n",
    "import trace_param as trcp\n",
    "import pulse_fit_powell as pfp\n",
    "import pulse_fit_bulk_process as pfbulk"
   ]
  },
  {
   "cell_type": "code",
   "execution_count": 3,
   "metadata": {
    "collapsed": true
   },
   "outputs": [],
   "source": [
    "results_directory = './'"
   ]
  },
  {
   "cell_type": "code",
   "execution_count": 22,
   "metadata": {},
   "outputs": [
    {
     "name": "stdout",
     "output_type": "stream",
     "text": [
      "0.00794102808174 650\n"
     ]
    }
   ],
   "source": [
    "# Loads Trace Parameters\n",
    "[height_th, offset] = np.loadtxt(results_directory + 'disc_settings.dat')\n",
    "offset = int(offset)\n",
    "print height_th, offset"
   ]
  },
  {
   "cell_type": "code",
   "execution_count": 23,
   "metadata": {},
   "outputs": [
    {
     "name": "stdout",
     "output_type": "stream",
     "text": [
      "0.00181221403007\n"
     ]
    }
   ],
   "source": [
    "sigma0 = np.loadtxt(results_directory + 'rms.dat')\n",
    "print sigma0"
   ]
  },
  {
   "cell_type": "code",
   "execution_count": 4,
   "metadata": {},
   "outputs": [],
   "source": [
    "# Loads Pulse (fitting) Parameters\n",
    "pulse_params =np.genfromtxt(results_directory + 'sum_and_diff_fit_params.dat',\n",
    "                            delimiter=\"\\t\",\n",
    "                            )"
   ]
  },
  {
   "cell_type": "code",
   "execution_count": 36,
   "metadata": {},
   "outputs": [],
   "source": [
    "# Loads Two Photon Model\n",
    "pkl_file = open(results_directory + 'two_pulse_fit_model.dat', 'rb')\n",
    "two_pulse_fit = pickle.load(pkl_file)"
   ]
  },
  {
   "cell_type": "code",
   "execution_count": 12,
   "metadata": {
    "collapsed": true
   },
   "outputs": [],
   "source": [
    "# imports Two Photon filelist\n",
    "tasks = np.genfromtxt(results_directory + 'filelist_two_photon.dat', delimiter=',',dtype='string')"
   ]
  },
  {
   "cell_type": "code",
   "execution_count": 43,
   "metadata": {},
   "outputs": [],
   "source": [
    "# tests fit for one interesting plot\n",
    "fl = np.genfromtxt('/mnt/disk1/analysis/20170523_TES5_75mK_95uA_trise_115ns_results/interesting_traces_220_to_240ns.txt', delimiter='\\n',dtype='string')\n",
    "fname = fl[8]\n",
    "time = pu.time_vector(fname)\n",
    "signal = trcp.trace_extr(fname,height_th)\n",
    "r = pfp.fit_two_cw(time,signal,\n",
    "              two_pulse_fit,\n",
    "              pulse_params,\n",
    "              height_th,\n",
    "              sigma0)"
   ]
  },
  {
   "cell_type": "code",
   "execution_count": 94,
   "metadata": {},
   "outputs": [],
   "source": [
    "# lmfit (multiprocess) traces\n",
    "cores = 1\n",
    "reload(pfbulk)\n",
    "pfbulk.run_fit_two_poolable(\n",
    "    results_directory+'results_lmfit_only_sigma0wt_fullsig_powell_again.csv',\n",
    "    cores,\n",
    "    tasks[1:5],\n",
    "    two_pulse_fit, pulse_params, height_th, sigma0)"
   ]
  },
  {
   "cell_type": "code",
   "execution_count": null,
   "metadata": {
    "collapsed": true
   },
   "outputs": [],
   "source": []
  }
 ],
 "metadata": {
  "kernelspec": {
   "display_name": "Python 2",
   "language": "python",
   "name": "python2"
  },
  "language_info": {
   "codemirror_mode": {
    "name": "ipython",
    "version": 2
   },
   "file_extension": ".py",
   "mimetype": "text/x-python",
   "name": "python",
   "nbconvert_exporter": "python",
   "pygments_lexer": "ipython2",
   "version": "2.7.12"
  }
 },
 "nbformat": 4,
 "nbformat_minor": 2
}
