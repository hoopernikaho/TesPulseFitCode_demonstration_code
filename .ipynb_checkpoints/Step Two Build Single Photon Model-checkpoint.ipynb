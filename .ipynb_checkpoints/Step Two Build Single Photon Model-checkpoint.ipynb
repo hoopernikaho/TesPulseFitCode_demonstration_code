{
 "cells": [
  {
   "cell_type": "markdown",
   "metadata": {
    "collapsed": true
   },
   "source": [
    "# Step Two Build Single Photon Model\n",
    "* synchronises every trace to the middle of the acquisition window\n",
    "* averages down the traces to create a first approximation of an average pulse\n",
    "* use this first approximation to build a model\n",
    "* fit all the traces again using this model, and use the fitted offset values to synchronise the pulses again\n",
    "* once synchronised, average down to create a better approximation of a single photon model"
   ]
  },
  {
   "cell_type": "code",
   "execution_count": 278,
   "metadata": {},
   "outputs": [],
   "source": [
    "from __future__ import division\n",
    "import tqdm, os, sys\n",
    "sys.path.append('/mnt/disk0/home/jianwei_leejw/scripts/TESPulseFitCode')\n",
    "import numpy as np\n",
    "import matplotlib\n",
    "import matplotlib.pyplot as plt\n",
    "import glob\n",
    "\n",
    "import trace_param as tp\n",
    "import heralded_pulses_analysis as hpa\n",
    "import pulse_averaging_cw as pacw\n",
    "import pulse_utils as pu\n",
    "results_directory = './'"
   ]
  },
  {
   "cell_type": "code",
   "execution_count": 264,
   "metadata": {},
   "outputs": [
    {
     "name": "stdout",
     "output_type": "stream",
     "text": [
      "10000 of 150998 n=1 traces will be sampled for creating the single photon model\n"
     ]
    }
   ],
   "source": [
    "# Import Single Photon Filelist\n",
    "filelist_1ph = np.loadtxt(results_directory + 'filelist_single_photon.dat', dtype='string')\n",
    "num_of_1ph_traces = len(filelist_1ph)\n",
    "sample_size = 10000\n",
    "print('{} of {} n=1 traces will be sampled for creating the single photon model'.format(sample_size, num_of_1ph_traces))"
   ]
  },
  {
   "cell_type": "code",
   "execution_count": 259,
   "metadata": {},
   "outputs": [],
   "source": [
    "# Import/Set discriminator settings\n",
    "[height_th, offset] = np.loadtxt(results_directory + 'disc_settings.dat')\n",
    "offset = int(offset)"
   ]
  },
  {
   "cell_type": "code",
   "execution_count": 265,
   "metadata": {},
   "outputs": [],
   "source": [
    "# Synchronise each single photon pulse to t = 0\n",
    "# Generate average pulse\n",
    "reload(pacw)\n",
    "time_p, signal_p = pacw.trace_ave(filelist_1ph[:sample_size], \n",
    "                                  high_th = height_th,\n",
    "                                  low_th = 0,\n",
    "                                  offset = offset)"
   ]
  },
  {
   "cell_type": "code",
   "execution_count": 274,
   "metadata": {},
   "outputs": [],
   "source": [
    "# Use average pulse to generate single photon model\n",
    "def one_pulse(x, x_offset=0, amplitude=1):\n",
    "    \"\"\"convert the sample single photon pulse into a function\n",
    "    that can be used in a fit\n",
    "    \"\"\"\n",
    "    x = x - x_offset\n",
    "    return amplitude * np.interp(x, time_p, signal_p)\n",
    "\n",
    "fit_model = Model(one_pulse)"
   ]
  },
  {
   "cell_type": "code",
   "execution_count": 275,
   "metadata": {},
   "outputs": [],
   "source": [
    "# Use model to generate another model that has horizontal offset correction\n",
    "reload(pacw)\n",
    "time_f, signal_f, sigma_f = pacw.fit_corrected_pulse(filelist_1ph[:sample_size],\n",
    "                                                     high_th = height_th,\n",
    "                                                     low_th = 0,\n",
    "                                                     offset = offset,\n",
    "                                                     fit_model = fit_model)"
   ]
  },
  {
   "cell_type": "code",
   "execution_count": 276,
   "metadata": {},
   "outputs": [
    {
     "name": "stdout",
     "output_type": "stream",
     "text": [
      "risetime = 127.99999638 ns\n"
     ]
    },
    {
     "data": {
      "image/png": "[encoded data removed]",
      "text/plain": [
       "<matplotlib.figure.Figure at 0x7fdb1d87e790>"
      ]
     },
     "metadata": {},
     "output_type": "display_data"
    }
   ],
   "source": [
    "# Plot model with rise time\n",
    "plt.figure()\n",
    "plt.errorbar(time_f, signal_f, yerr=sigma_f)\n",
    "print 'risetime = {} ns'.format(pu.rise_time(time_f,signal_f,plot=False)*1e9)\n",
    "plt.show()"
   ]
  },
  {
   "cell_type": "markdown",
   "metadata": {},
   "source": [
    "# Save single photon model with uncertainty"
   ]
  },
  {
   "cell_type": "code",
   "execution_count": 279,
   "metadata": {},
   "outputs": [],
   "source": [
    "np.savetxt(results_directory + 'ph1_model_from_cw_disc.dat',\n",
    "           np.array(zip(time_f, signal_f, sigma_f)),\n",
    "           delimiter = '\\t',\n",
    "           header='time\\tsignal\\tsigma')"
   ]
  },
  {
   "cell_type": "code",
   "execution_count": 272,
   "metadata": {},
   "outputs": [],
   "source": [
    "a = np.genfromtxt('ph1_model_from_cw_disc.dat',names=True)"
   ]
  }
 ],
 "metadata": {
  "kernelspec": {
   "display_name": "Python 2",
   "language": "python",
   "name": "python2"
  },
  "language_info": {
   "codemirror_mode": {
    "name": "ipython",
    "version": 2
   },
   "file_extension": ".py",
   "mimetype": "text/x-python",
   "name": "python",
   "nbconvert_exporter": "python",
   "pygments_lexer": "ipython2",
   "version": "2.7.12"
  }
 },
 "nbformat": 4,
 "nbformat_minor": 2
}
