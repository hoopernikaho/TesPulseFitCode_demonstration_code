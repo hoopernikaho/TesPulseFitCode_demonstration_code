{
 "cells": [
  {
   "cell_type": "code",
   "execution_count": 1,
   "metadata": {
    "collapsed": true
   },
   "outputs": [],
   "source": [
    "from __future__ import division\n",
    "import tqdm\n",
    "import os\n",
    "import sys\n",
    "sys.path.append('/mnt/disk0/home/jianwei_leejw/scripts/TESPulseFitCode')\n",
    "# sys.path.append('/workspace/projects/TES/scripts')\n",
    "import numpy as np\n",
    "import matplotlib\n",
    "# matplotlib.use('nbAgg')\n",
    "%matplotlib inline\n",
    "import matplotlib.pyplot as plt\n",
    "import glob\n",
    "from lmfit import Model, Parameters\n",
    "import pymc\n",
    "# import seaborn\n",
    "from scipy.stats import norm\n",
    "from scipy.signal import savgol_filter\n",
    "from scipy.fftpack import fft, rfft, fftshift\n",
    "import pickle\n",
    "import time as datetime\n",
    "import pandas\n",
    "import pprint\n",
    "\n",
    "import heralded_pulses_analysis as hpa\n",
    "import pulse_averaging_cw as pacw\n",
    "import pulse_fit_v05 as pf\n",
    "import pulse_fit_v06 as pf6\n",
    "import single_photon_model_no_shift as noshift\n",
    "import pulse_averaging as pa\n",
    "import thres_poiss\n",
    "import pulse_discrimination as pd\n",
    "import thres\n",
    "import stats_proc as sp\n",
    "\n",
    "import pulse_utils as pu\n",
    "import discriminator as disc\n",
    "import discriminator_edges as disc_edges\n",
    "import trace_param as trcp\n",
    "import pulse_fit_powell as pfp"
   ]
  },
  {
   "cell_type": "code",
   "execution_count": 2,
   "metadata": {
    "collapsed": true
   },
   "outputs": [],
   "source": [
    "results_directory = './'"
   ]
  },
  {
   "cell_type": "markdown",
   "metadata": {},
   "source": [
    "## Import Trace Parameters\n",
    "* Height threshold\n",
    "* RMS noise"
   ]
  },
  {
   "cell_type": "code",
   "execution_count": 3,
   "metadata": {},
   "outputs": [
    {
     "name": "stdout",
     "output_type": "stream",
     "text": [
      "0.00794102808174 650\n"
     ]
    }
   ],
   "source": [
    "[height_th, offset] = np.loadtxt(results_directory + 'disc_settings.dat')\n",
    "offset = int(offset)\n",
    "print height_th, offset"
   ]
  },
  {
   "cell_type": "code",
   "execution_count": 4,
   "metadata": {},
   "outputs": [
    {
     "name": "stdout",
     "output_type": "stream",
     "text": [
      "0.00181221403007\n"
     ]
    }
   ],
   "source": [
    "sigma0 = np.loadtxt(results_directory + 'rms.dat')\n",
    "print sigma0"
   ]
  },
  {
   "cell_type": "markdown",
   "metadata": {},
   "source": [
    "# Part 1: Discriminator Demo"
   ]
  },
  {
   "cell_type": "code",
   "execution_count": 14,
   "metadata": {
    "collapsed": true
   },
   "outputs": [],
   "source": [
    "# Import interesting traces to demonstrate\n",
    "fl = np.genfromtxt('/mnt/disk1/analysis/20170523_TES5_75mK_95uA_trise_115ns_results/interesting_traces_220_to_240ns.txt', delimiter='\\n',dtype='string')"
   ]
  },
  {
   "cell_type": "code",
   "execution_count": 15,
   "metadata": {
    "collapsed": true
   },
   "outputs": [],
   "source": [
    "fname = fl[8]\n",
    "\n",
    "time = pu.time_vector(fname)\n",
    "signal = trcp.trace_extr(fname,height_th)"
   ]
  },
  {
   "cell_type": "code",
   "execution_count": 16,
   "metadata": {},
   "outputs": [
    {
     "data": {
      "text/plain": [
       "[<matplotlib.lines.Line2D at 0x7f5770019b10>]"
      ]
     },
     "execution_count": 16,
     "metadata": {},
     "output_type": "execute_result"
    },
    {
     "data": {
      "image/png": "[encoded data removed]",
      "text/plain": [
       "<matplotlib.figure.Figure at 0x7f5770056410>"
      ]
     },
     "metadata": {},
     "output_type": "display_data"
    }
   ],
   "source": [
    "mask_ext = pu.disc_peak_full(signal,height_th,0,offset)\n",
    "\n",
    "mask = pu.disc_peak_full(signal,height_th,0,0)\n",
    "mask_forward = disc.disc_peak(signal,height_th,0)\n",
    "\n",
    "f, (ax1,ax2) = plt.subplots(2, 1, sharex=True, figsize=(8,6))\n",
    "plt.tight_layout\n",
    "ax1.plot(time,signal,color='blue')\n",
    "ax2.plot(time,mask_forward,color='black')\n",
    "ax2.plot(time,mask,color='red',alpha=1)\n",
    "ax2.plot(time,mask_ext,color='red',alpha=1,linestyle='--')"
   ]
  },
  {
   "cell_type": "markdown",
   "metadata": {},
   "source": [
    "## Saves discriminator demo trace"
   ]
  },
  {
   "cell_type": "code",
   "execution_count": 207,
   "metadata": {
    "collapsed": true
   },
   "outputs": [],
   "source": [
    "np.savetxt(results_directory+'demo_trace.dat', zip(time,signal))\n",
    "np.savetxt(results_directory+'mask_forward.dat', mask_forward)\n",
    "np.savetxt(results_directory+'mask.dat', mask)\n",
    "np.savetxt(results_directory+'mask_ext.dat', mask_ext)"
   ]
  },
  {
   "cell_type": "markdown",
   "metadata": {},
   "source": [
    "## Calculate fit parameters for amplitudes\n",
    "* Import area distribution, thresholds\n",
    "* Compute range of amplitudes to consider for fitting"
   ]
  },
  {
   "cell_type": "code",
   "execution_count": 5,
   "metadata": {
    "collapsed": true
   },
   "outputs": [],
   "source": [
    "pkl_file = open(results_directory+'area_distribution_lmfit_result.dat', 'rb')\n",
    "area_fit_result = pickle.load(pkl_file)"
   ]
  },
  {
   "cell_type": "code",
   "execution_count": 6,
   "metadata": {
    "collapsed": true
   },
   "outputs": [],
   "source": [
    "area_mus = (area_fit_result.best_values['g1_center'], area_fit_result.best_values['g2_center'])"
   ]
  },
  {
   "cell_type": "code",
   "execution_count": 7,
   "metadata": {
    "collapsed": true
   },
   "outputs": [],
   "source": [
    "area_sigmas = (area_fit_result.best_values['g1_sigma'], area_fit_result.best_values['g2_sigma'])"
   ]
  },
  {
   "cell_type": "code",
   "execution_count": 8,
   "metadata": {
    "collapsed": true
   },
   "outputs": [],
   "source": [
    "th_areas = [(area_mus[i]-2*area_sigmas[i],area_mus[i]+2*area_sigmas[i]) \n",
    "            for i,_ in enumerate(area_mus)]"
   ]
  },
  {
   "cell_type": "code",
   "execution_count": 9,
   "metadata": {},
   "outputs": [
    {
     "name": "stdout",
     "output_type": "stream",
     "text": [
      "1.49977554331 1.96005630826 2.42033707321\n"
     ]
    }
   ],
   "source": [
    "# define amplitude sum distribution as n=2 area distribution normalised to n=1 mean area\n",
    "sum_mu = area_mus[1]/area_mus[0]\n",
    "sum_tau = 1.0/((area_sigmas[1]/area_mus[0])**2)\n",
    "sum_a = th_areas[1][0]/area_mus[0]\n",
    "sum_b = th_areas[1][1]/area_mus[0]\n",
    "print sum_a, sum_mu, sum_b"
   ]
  },
  {
   "cell_type": "code",
   "execution_count": 10,
   "metadata": {},
   "outputs": [
    {
     "name": "stdout",
     "output_type": "stream",
     "text": [
      "-0.460280764948 0.460280764948\n"
     ]
    }
   ],
   "source": [
    "# define amplitude difference distribution as n=2 area distribution normalised to n=1 mean area, shifted to zero\n",
    "diff_tau = 1.0/((area_sigmas[1]/area_mus[0])**2)\n",
    "TwoPhoton_ThresWidth = (th_areas[1][1]-th_areas[1][0])\n",
    "diff_a = -TwoPhoton_ThresWidth/2/area_mus[0]\n",
    "diff_b = TwoPhoton_ThresWidth/2/area_mus[0]\n",
    "print diff_a, diff_b"
   ]
  },
  {
   "cell_type": "code",
   "execution_count": 68,
   "metadata": {
    "collapsed": true
   },
   "outputs": [],
   "source": [
    "np.savetxt(results_directory+'sum_and_diff_fit_params.dat',\n",
    "          np.array([sum_a,sum_mu,sum_b,sum_tau,diff_a, diff_b,diff_tau]).reshape(1,7),\n",
    "           delimiter=\"\\t\",\n",
    "          header = \"\\t\".join(['sum_a', 'sum_mu', 'sum_b','sum_tau','diff_a', 'diff_b','diff_tau'])\n",
    "          )"
   ]
  },
  {
   "cell_type": "markdown",
   "metadata": {},
   "source": [
    "# Part 2: Lmfit Demo"
   ]
  },
  {
   "cell_type": "code",
   "execution_count": 11,
   "metadata": {
    "collapsed": true
   },
   "outputs": [],
   "source": [
    "# Loads Pulse Parameters\n",
    "pulse_params =np.genfromtxt(results_directory + 'sum_and_diff_fit_params.dat',\n",
    "                            delimiter=\"\\t\",\n",
    "                            )"
   ]
  },
  {
   "cell_type": "markdown",
   "metadata": {},
   "source": [
    "## Create 2-photon Model"
   ]
  },
  {
   "cell_type": "code",
   "execution_count": 12,
   "metadata": {
    "collapsed": true
   },
   "outputs": [],
   "source": [
    "ph1_model = np.genfromtxt(results_directory + 'ph1_model_from_cw_disc.dat',delimiter='\\t',names=True)\n",
    "time_f = ph1_model['time']\n",
    "signal_f = ph1_model['signal']\n",
    "sigma_f = ph1_model['sigma']\n",
    "def one_pulse(x, x_offset=0, amplitude=1):\n",
    "    \"\"\"convert the sample single photon pulse into a function\n",
    "    that can be used in a fit\n",
    "    \"\"\"\n",
    "    x = x - x_offset\n",
    "    return amplitude * np.interp(x, time_f, signal_f)\n",
    "two_pulse_fit = Model(one_pulse, prefix='one_') + \\\n",
    "        Model(one_pulse, prefix='two_')"
   ]
  },
  {
   "cell_type": "code",
   "execution_count": 20,
   "metadata": {},
   "outputs": [],
   "source": [
    "# save model\n",
    "fp = open(results_directory + 'two_pulse_fit_model.dat','wb')\n",
    "pickle.dump(two_pulse_fit,fp)\n",
    "fp.close()"
   ]
  },
  {
   "cell_type": "markdown",
   "metadata": {},
   "source": [
    "## Perform Fit"
   ]
  },
  {
   "cell_type": "code",
   "execution_count": 17,
   "metadata": {},
   "outputs": [],
   "source": [
    "# Lmfit\n",
    "reload(pfp)\n",
    "r = pfp.fit_two_cw(time,signal,\n",
    "              two_pulse_fit,\n",
    "              pulse_params,\n",
    "              height_th,\n",
    "              sigma0)"
   ]
  },
  {
   "cell_type": "code",
   "execution_count": 18,
   "metadata": {},
   "outputs": [
    {
     "name": "stdout",
     "output_type": "stream",
     "text": [
      "2.21965767584e-07\n",
      "Parameters([('one_x_offset', <Parameter 'one_x_offset', 3.230252757061707e-06, bounds=[3.0412527624069921e-06:3.419252751716422e-06]>), ('two_x_offset', <Parameter 'two_x_offset', 3.230252757061707e-06, bounds=[3.0412527624069921e-06:3.419252751716422e-06]>), ('sum_amplitudes', <Parameter 'sum_amplitudes', 1.9796568713427649, bounds=[1.4997755433122077:2.4203370732081186]>), ('diff_amplitudes', <Parameter 'diff_amplitudes', 0.0, bounds=[-0.46028076494795545:0.46028076494795545]>), ('one_amplitude', <Parameter 'one_amplitude', 0.98982843567138246, bounds=[-inf:inf], expr='(sum_amplitudes+diff_amplitudes)/2'>), ('two_amplitude', <Parameter 'two_amplitude', 0.98982843567138246, bounds=[-inf:inf], expr='(sum_amplitudes-diff_amplitudes)/2'>)])\n"
     ]
    },
    {
     "data": {
      "image/png": "[encoded data removed]",
      "text/plain": [
       "<matplotlib.figure.Figure at 0x7f5768c49650>"
      ]
     },
     "metadata": {},
     "output_type": "display_data"
    }
   ],
   "source": [
    "# Plot fit and component\n",
    "# r.plot_fit()\n",
    "# print r.components\n",
    "plt.plot(time,signal,alpha=0.5)\n",
    "plt.plot(time,r.best_fit)\n",
    "comps = r.eval_components(x=time)\n",
    "plt.plot(time, comps['one_'])\n",
    "plt.plot(time, comps['two_'])\n",
    "print r.best_values['two_x_offset']-r.best_values['one_x_offset']\n",
    "plt.xlim(2e-6,4e-6)\n",
    "print r.init_params"
   ]
  },
  {
   "cell_type": "code",
   "execution_count": 214,
   "metadata": {
    "collapsed": true
   },
   "outputs": [],
   "source": [
    "np.savetxt('lmfit_component_one.dat',comps['one_'])\n",
    "np.savetxt('lmfit_component_two.dat',comps['two_'])\n",
    "with open(\"lmfit_component_readme.txt\", \"w\") as text_file:\n",
    "    text_file.write(\"{}\".format(r.fit_report()))"
   ]
  },
  {
   "cell_type": "code",
   "execution_count": null,
   "metadata": {
    "collapsed": true
   },
   "outputs": [],
   "source": []
  }
 ],
 "metadata": {
  "kernelspec": {
   "display_name": "Python 2",
   "language": "python",
   "name": "python2"
  },
  "language_info": {
   "codemirror_mode": {
    "name": "ipython",
    "version": 2
   },
   "file_extension": ".py",
   "mimetype": "text/x-python",
   "name": "python",
   "nbconvert_exporter": "python",
   "pygments_lexer": "ipython2",
   "version": "2.7.12"
  }
 },
 "nbformat": 4,
 "nbformat_minor": 2
}
