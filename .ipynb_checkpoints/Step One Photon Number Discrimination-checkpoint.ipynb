{
 "cells": [
  {
   "cell_type": "markdown",
   "metadata": {},
   "source": [
    "# Step One Photon Number Discrimination\n",
    "* Determine the height thresholds for 2 level discrminator\n",
    "* Obtain area histogram of traces\n",
    "* Use area histogram to categorise photon number in traces"
   ]
  },
  {
   "cell_type": "raw",
   "metadata": {},
   "source": [
    "Output files:\n",
    "List of n=1 traces\n",
    "List of n=2 traces\n",
    "Data file with:\n",
    "    Height threshold\n",
    "    Noise threshold\n",
    "    n=1 integral center\n",
    "    n=2 integral limits"
   ]
  },
  {
   "cell_type": "code",
   "execution_count": 23,
   "metadata": {
    "collapsed": true
   },
   "outputs": [],
   "source": [
    "from __future__ import division\n",
    "import tqdm\n",
    "import os\n",
    "import sys\n",
    "sys.path.append('/mnt/disk0/home/jianwei_leejw/scripts/TESPulseFitCode')\n",
    "\n",
    "import scipy\n",
    "import numpy as np\n",
    "import matplotlib\n",
    "import matplotlib.pyplot as plt\n",
    "import glob\n",
    "import pickle\n",
    "from multiprocess import Pool\n",
    "\n",
    "import seaborn\n",
    "\n",
    "import heralded_pulses_analysis as hpa\n",
    "import thres_poiss\n",
    "import thres\n",
    "import pulse_utils as pu"
   ]
  },
  {
   "cell_type": "code",
   "execution_count": 24,
   "metadata": {
    "collapsed": true
   },
   "outputs": [],
   "source": [
    "# Imports CW traces\n",
    "directories = ['/mnt/disk1/data/20170523_TES5_75mK_95uA_trise_115ns/doubles/',\n",
    "              '/mnt/disk1/data/20170523_TES5_75mK_95uA_trise_115ns/doubles_more/',\n",
    "              '/mnt/disk1/data/20170523_TES5_75mK_95uA_trise_115ns/doubles_more_more/',\n",
    "              '/mnt/disk1/data/20170523_TES5_75mK_95uA_trise_115ns/doubles_more_more_more/']\n",
    "results_directory = './'\n",
    "filelist=[]\n",
    "for directory_name in directories:\n",
    "    subfilelist = np.array(glob.glob(directory_name + '*.trc'))\n",
    "    filelist.extend(subfilelist)\n",
    "filelist = np.sort(np.array(filelist))"
   ]
  },
  {
   "cell_type": "markdown",
   "metadata": {},
   "source": [
    "# Get Approximate Height Threshold\n",
    "Estimate threshold height to discriminate between electrical noise and photodetection events.\n",
    "\n",
    "Gets maximum height of pulses, histograms the heights. \n",
    "\n",
    "Fit the distributions to a model to find the minimum crossing point between the distributions.\n",
    "\n",
    "The resolution of this distribution will not be optimal due to the presence of partial pulses at the edges."
   ]
  },
  {
   "cell_type": "code",
   "execution_count": 25,
   "metadata": {
    "collapsed": true
   },
   "outputs": [],
   "source": [
    "sample_size = int(0.1*len(filelist)) # number of samples to obtain height threshold from"
   ]
  },
  {
   "cell_type": "code",
   "execution_count": 103,
   "metadata": {},
   "outputs": [
    {
     "name": "stderr",
     "output_type": "stream",
     "text": [
      "100%|██████████| 40000/40000 [01:00<00:00, 665.33it/s]\n"
     ]
    }
   ],
   "source": [
    "max_heights = np.array([hpa.max_height(f) for f in tqdm.tqdm(filelist[:sample_size])])"
   ]
  },
  {
   "cell_type": "code",
   "execution_count": 26,
   "metadata": {
    "collapsed": true
   },
   "outputs": [],
   "source": [
    "bins = 150"
   ]
  },
  {
   "cell_type": "code",
   "execution_count": null,
   "metadata": {
    "collapsed": true
   },
   "outputs": [],
   "source": [
    "height_distribution = np.histogram(max_heights, bins)"
   ]
  },
  {
   "cell_type": "code",
   "execution_count": 105,
   "metadata": {},
   "outputs": [
    {
     "name": "stdout",
     "output_type": "stream",
     "text": [
      "[0.0078042049269024276]\n"
     ]
    }
   ],
   "source": [
    "height_th_approx = thres_poiss.thresholds_N(height_distribution, \n",
    "                                            min_peak_sep=0.01, \n",
    "                                            weighted=True)\n",
    "print height_th_approx"
   ]
  },
  {
   "cell_type": "code",
   "execution_count": 106,
   "metadata": {},
   "outputs": [
    {
     "data": {
      "image/png": "[encoded data removed]",
      "text/plain": [
       "<matplotlib.figure.Figure at 0x7fcdbb7bd2d0>"
      ]
     },
     "metadata": {},
     "output_type": "display_data"
    }
   ],
   "source": [
    "plt.title('Maximum Height Distribution\\nSample size = {}'.format(sample_size))\n",
    "plt.bar(height_distribution[1][:-1],\n",
    "        height_distribution[0], \n",
    "        width = np.diff(height_distribution[1])[0],\n",
    "        align='center')\n",
    "plt.axvline(height_th_approx, label='height_th_approx', linestyle='--')\n",
    "plt.legend()\n",
    "plt.show()"
   ]
  },
  {
   "cell_type": "markdown",
   "metadata": {},
   "source": [
    "# Get Height Threshold (excluding partial pulses)\n",
    "The maximum height of pulses at the edge of the acquisition window do not report the peak photodetection signal - they are obscured.\n",
    "\n",
    "We use the approximate height obtained to initialise a two level discriminator.\n",
    "\n",
    "The discriminator has 3 inputs:\n",
    "* high_th: the level crossing that identifies the signal as a photodetection event\n",
    "* low_th: the level crossing that turns the discriminator logic off\n",
    "* offset: the number of data points that the discriminator window extends, in order to improve the signal to noise ratio\n",
    "\n",
    "We use param_extr to calculate these values, \n",
    "(within discriminated windows, while ignoring partial traces)\n",
    "* max height \n",
    "* rms \n",
    "* absolute area "
   ]
  },
  {
   "cell_type": "code",
   "execution_count": 27,
   "metadata": {},
   "outputs": [
    {
     "name": "stdout",
     "output_type": "stream",
     "text": [
      "650\n"
     ]
    }
   ],
   "source": [
    "# Calculate offset value as a function of points\n",
    "time_vector = pu.time_vector(filelist[0])\n",
    "dt = np.diff(time_vector)[0]\n",
    "offset = int(1300e-9/dt)\n",
    "print offset"
   ]
  },
  {
   "cell_type": "code",
   "execution_count": 29,
   "metadata": {},
   "outputs": [
    {
     "name": "stderr",
     "output_type": "stream",
     "text": [
      "100%|██████████| 40000/40000 [01:43<00:00, 387.30it/s]\n"
     ]
    }
   ],
   "source": [
    "trace_parameters_approx = np.array([hpa.param_extr(f,\n",
    "                                   high_th = 0.0078042049269024276,\n",
    "                                   low_th = 0,\n",
    "                                   offset = offset)\n",
    "                   for f in tqdm.tqdm(filelist[:sample_size])])"
   ]
  },
  {
   "cell_type": "code",
   "execution_count": 30,
   "metadata": {
    "collapsed": true
   },
   "outputs": [],
   "source": [
    "max_heights_discriminated = trace_parameters_approx['height']"
   ]
  },
  {
   "cell_type": "code",
   "execution_count": 31,
   "metadata": {
    "collapsed": true
   },
   "outputs": [],
   "source": [
    "bins = 150\n",
    "height_distribution_discriminated = np.histogram(max_heights_discriminated, bins)"
   ]
  },
  {
   "cell_type": "code",
   "execution_count": 38,
   "metadata": {},
   "outputs": [
    {
     "data": {
      "text/plain": [
       "0.007940936436562001"
      ]
     },
     "execution_count": 38,
     "metadata": {},
     "output_type": "execute_result"
    }
   ],
   "source": [
    "reload(thres_poiss)\n",
    "\n",
    "result_height =  thres_poiss.gauss_fit_interp(height_distribution_discriminated, \n",
    "                                  min_peak_sep=0.01,\n",
    "                                  weighted=True)\n",
    "\n",
    "height_th = thres_poiss.thresholds_N(height_distribution_discriminated, \n",
    "                                            min_peak_sep=0.01, \n",
    "                                            weighted=True)\n",
    "height_th = height_th[0]\n",
    "height_th"
   ]
  },
  {
   "cell_type": "code",
   "execution_count": 39,
   "metadata": {},
   "outputs": [
    {
     "data": {
      "image/png": "[encoded data removed]",
      "text/plain": [
       "<matplotlib.figure.Figure at 0x7fc9ea3b46d0>"
      ]
     },
     "metadata": {},
     "output_type": "display_data"
    }
   ],
   "source": [
    "plt.title('Maximum Height Distribution (ignoring edges)\\nSample size = {}'.format(sample_size))\n",
    "plt.bar(height_distribution_discriminated[1][:-1],\n",
    "        height_distribution_discriminated[0], \n",
    "        width = np.diff(height_distribution_discriminated[1])[0],\n",
    "        align='center')\n",
    "plt.axvline(height_th, label='height_th', linestyle='--')\n",
    "plt.legend()\n",
    "plt.show()"
   ]
  },
  {
   "cell_type": "code",
   "execution_count": 75,
   "metadata": {},
   "outputs": [],
   "source": [
    "def histogram(nphisto):\n",
    "    bins = nphisto[1][:-1]\n",
    "    bins = bins + np.diff(bins)[0]/2\n",
    "    frequencies =  nphisto[0]\n",
    "    return frequencies, bins"
   ]
  },
  {
   "cell_type": "code",
   "execution_count": 76,
   "metadata": {},
   "outputs": [],
   "source": [
    "frequencies,bins = histogram(height_distribution_discriminated)\n",
    "comps = result_height.eval_components(x=bins)"
   ]
  },
  {
   "cell_type": "code",
   "execution_count": 82,
   "metadata": {},
   "outputs": [],
   "source": [
    "np.savetxt('pnr_height.dat',histogram(height_distribution_discriminated))\n",
    "np.savetxt('g0_component.dat',comps['g0_'])\n",
    "np.savetxt('g1_component.dat',comps['g1_'])\n",
    "with open('pnr_height_readme.dat','a+') as fp:\n",
    "    fp.write('height_th = {}\\n samples = {}'.format(height_th,sample_size))\n",
    "fp.close()"
   ]
  },
  {
   "cell_type": "markdown",
   "metadata": {},
   "source": [
    "# Calculate trace parameters with height threshold (obtained excluding partial pulses)\n",
    "* Computes trace parameters for ALL traces\n",
    "* Speeds up tasks with multiprocessing"
   ]
  },
  {
   "cell_type": "code",
   "execution_count": 89,
   "metadata": {},
   "outputs": [
    {
     "name": "stderr",
     "output_type": "stream",
     "text": [
      "\r",
      "  0%|          | 0/400000 [00:00<?, ?it/s]"
     ]
    }
   ],
   "source": [
    "tasks = tqdm.tqdm(filelist)\n",
    "def param_extr_poolable(f):\n",
    "    \"\"\"poolable version of parameter extractor\"\"\"\n",
    "    return hpa.param_extr(f,\n",
    "                   high_th = height_th,\n",
    "                   low_th = 0,\n",
    "                   offset = offset)"
   ]
  },
  {
   "cell_type": "code",
   "execution_count": 103,
   "metadata": {},
   "outputs": [],
   "source": [
    "reload(hpa)\n",
    "if os.path.isfile(results_directory + 'trace_params_w_area.dat'):\n",
    "    trace_parameters = np.genfromtxt(results_directory + 'trace_params_w_area.dat', names=True)\n",
    "else:\n",
    "    trace_parameters = np.array(Pool(4).map(param_extr_poolable, tasks))"
   ]
  },
  {
   "cell_type": "code",
   "execution_count": 133,
   "metadata": {
    "collapsed": true
   },
   "outputs": [],
   "source": [
    "area = trace_parameters['area_win']"
   ]
  },
  {
   "cell_type": "markdown",
   "metadata": {},
   "source": [
    "# Fit Area Distribution\n",
    "* Threshold (th01) between n=0, n=1 determined by seeking the minimum between the two distributions.\n",
    "* N >= 1 distributions fitted with Gaussian multiplied by Poisson coefficients\n",
    "* N=1 distribution is selected to be within 2 sigmas of its distribution.\n",
    "* N=2 distribution selected to be within th12 and th23"
   ]
  },
  {
   "cell_type": "code",
   "execution_count": 134,
   "metadata": {
    "collapsed": true
   },
   "outputs": [],
   "source": [
    "bins = 200\n",
    "area_distribution = np.histogram(area, bins) "
   ]
  },
  {
   "cell_type": "code",
   "execution_count": 135,
   "metadata": {},
   "outputs": [
    {
     "name": "stdout",
     "output_type": "stream",
     "text": [
      "est peak pos = [  1.41360594   5.65442377  10.88476576]\n",
      "est peak hts = [ 255 5127  386]\n",
      "th01 = 2.75653158938\n",
      "[[Model]]\n",
      "    (Model(gaussian, prefix='g1_') + Model(gaussian, prefix='g2_'))\n",
      "[[Variables]]\n",
      "    n_bar:          0.22932348 (init= 0.2)\n",
      "    A:              61004.7170 (init= 15381)\n",
      "    Delta_E:        53.8809127 (init= 5.230342)\n",
      "    sigma_p:        0.92834296 (init= 0.6752372)\n",
      "    g1_center:      5.62716413 (init= 5.654424)\n",
      "    g2_center:      11.1264064 (init= 10.88477)\n",
      "    g1_amplitude:   11122.8997  == 'A * exp(-n_bar) * n_bar**1 / factorial(1)'\n",
      "    g2_amplitude:   1275.37106  == 'A * exp(-n_bar) * n_bar**2 / factorial(2)'\n",
      "    g1_sigma:       0.92834296  == 'sigma_p * sqrt(1)'\n",
      "    g2_sigma:       1.31287521  == 'sigma_p * sqrt(2)'\n",
      "\n"
     ]
    },
    {
     "data": {
      "image/png": "[encoded data removed]",
      "text/plain": [
       "<matplotlib.figure.Figure at 0x7fc9c6e19990>"
      ]
     },
     "metadata": {},
     "output_type": "display_data"
    }
   ],
   "source": [
    "reload(thres)\n",
    "result = thres.gauss_fit_poiss_ph_region(area_distribution,\n",
    "                                          min_peak_sep=3, \n",
    "                                          threshold=1e-2, \n",
    "                                          weighted=True,\n",
    "                                          plot=True)\n",
    "plt.title('Area (within Discriminator) Distribution')\n",
    "plt.ylim(0,6000)\n",
    "plt.xlim(0,15)\n",
    "plt.show()"
   ]
  },
  {
   "cell_type": "code",
   "execution_count": 154,
   "metadata": {},
   "outputs": [
    {
     "data": {
      "text/plain": [
       "1.9772670924041085"
      ]
     },
     "execution_count": 154,
     "metadata": {},
     "output_type": "execute_result"
    }
   ],
   "source": [
    "result.best_values['g2_center']/result.best_values['g1_center']"
   ]
  },
  {
   "cell_type": "code",
   "execution_count": 136,
   "metadata": {
    "collapsed": true
   },
   "outputs": [],
   "source": [
    "th01 = 2.75653158938"
   ]
  },
  {
   "cell_type": "code",
   "execution_count": 137,
   "metadata": {},
   "outputs": [
    {
     "name": "stdout",
     "output_type": "stream",
     "text": [
      "est peak pos = [  1.41360594   5.65442377  10.88476576]\n",
      "est peak hts = [ 255 5127  386]\n",
      "th01 = 2.75653158938\n",
      "at threshold 7.98319588758 between 5.62716413671 and 11.1264064711:\n",
      "prob signal lost = 0.00832963359603\n",
      "prob noise enters = 0.00557616168277\n",
      "[7.9831958875750821]\n"
     ]
    }
   ],
   "source": [
    "reload(thres)\n",
    "thresholds = thres.thresholds_N(area_distribution,\n",
    "                              min_peak_sep=3, \n",
    "                              threshold=1e-2, \n",
    "                              weighted=True)\n",
    "print thresholds"
   ]
  },
  {
   "cell_type": "code",
   "execution_count": 138,
   "metadata": {
    "collapsed": true
   },
   "outputs": [],
   "source": [
    "frequencies ,bins = histogram(area_distribution)\n",
    "comps = result.eval_components(x=bins)"
   ]
  },
  {
   "cell_type": "code",
   "execution_count": 151,
   "metadata": {},
   "outputs": [],
   "source": [
    "np.savetxt('pnr_area_disc.dat',histogram(area_distribution))\n",
    "np.savetxt('g1_area_component.dat',comps['g1_'])\n",
    "np.savetxt('g2_area_component.dat',comps['g2_'])\n",
    "with open('pnr_area_readme.dat','a+') as fp:\n",
    "    fp.write('a_th01 = {}\\n a_th12 = {}\\nsamples = {}'.format(th01,thresholds[0],sample_size))\n",
    "fp.close()"
   ]
  },
  {
   "cell_type": "code",
   "execution_count": 146,
   "metadata": {},
   "outputs": [],
   "source": [
    "bins = 200\n",
    "area_above_threshold = trace_parameters['area']\n",
    "area_above_threshold_distribution = np.histogram(area_above_threshold, bins) \n",
    "frequencies, bins = histogram(area_above_threshold_distribution)\n",
    "np.savetxt('pnr_area_above_th.dat',histogram(area_above_threshold_distribution))"
   ]
  },
  {
   "cell_type": "markdown",
   "metadata": {},
   "source": [
    "# Photon Number Masks"
   ]
  },
  {
   "cell_type": "code",
   "execution_count": 10,
   "metadata": {},
   "outputs": [],
   "source": [
    "# creates mask for photon number\n",
    "mask_0ph = (area < th01)"
   ]
  },
  {
   "cell_type": "code",
   "execution_count": null,
   "metadata": {
    "collapsed": true
   },
   "outputs": [],
   "source": [
    "mask_1ph = (area > result.best_values['g1_center']-2*result.best_values['g1_sigma'])&\\\n",
    "           (area < result.best_values['g1_center']+2*result.best_values['g1_sigma'])\n",
    "\n",
    "mask_2ph = (area > thresholds[0])&(area < thresholds[1])"
   ]
  },
  {
   "cell_type": "markdown",
   "metadata": {},
   "source": [
    "# Save filelists and fit results"
   ]
  },
  {
   "cell_type": "code",
   "execution_count": 131,
   "metadata": {
    "collapsed": true
   },
   "outputs": [],
   "source": [
    "# saves filelist of n = 0, 1, 2 photons\n",
    "hpa.append2file(results_directory + 'filelist_zero_photon.dat',\"\\n\".join(filelist[mask_0ph]))\n",
    "hpa.append2file(results_directory + 'filelist_single_photon.dat',\"\\n\".join(filelist[mask_1ph]))\n",
    "hpa.append2file(results_directory + 'filelist_two_photon.dat',\"\\n\".join(filelist[mask_2ph]))"
   ]
  },
  {
   "cell_type": "code",
   "execution_count": 138,
   "metadata": {
    "collapsed": true
   },
   "outputs": [],
   "source": [
    "# saves whole filelist and trace parameters for future reference\n",
    "hpa.append2file(results_directory + 'filelist.dat',\"\\n\".join(filelist))\n",
    "np.savetxt(results_directory + 'trace_params.dat',trace_parameters,header=\"\\t\".join(trace_parameters.dtype.names))"
   ]
  },
  {
   "cell_type": "code",
   "execution_count": 42,
   "metadata": {},
   "outputs": [],
   "source": [
    "# saves fit result of height distribution\n",
    "g = open(results_directory + 'height_distribution_lmfit_result_height_th_{}.dat'.format(height_th),'wb')\n",
    "pickle.dump(result_height,g)\n",
    "g.close()\n"
   ]
  },
  {
   "cell_type": "code",
   "execution_count": 151,
   "metadata": {
    "collapsed": true
   },
   "outputs": [],
   "source": [
    "# saves fit results of area distribution\n",
    "f = open(results_directory + 'area_distribution_lmfit_result.dat','wb')\n",
    "pickle.dump(result,f)\n",
    "f.close()"
   ]
  },
  {
   "cell_type": "code",
   "execution_count": 122,
   "metadata": {
    "collapsed": true
   },
   "outputs": [],
   "source": [
    "# saves discriminator characteristics\n",
    "np.savetxt(results_directory + 'disc_settings.dat', [height_th, offset],header='height_th\\toffset')"
   ]
  },
  {
   "cell_type": "markdown",
   "metadata": {},
   "source": [
    "# Calculate RMS noise of n=0 traces"
   ]
  },
  {
   "cell_type": "code",
   "execution_count": 137,
   "metadata": {},
   "outputs": [
    {
     "data": {
      "text/plain": [
       "array([ '/mnt/disk1/data/20170523_TES5_75mK_95uA_trise_115ns/doubles/C2doubles00000.trc',\n",
       "       '/mnt/disk1/data/20170523_TES5_75mK_95uA_trise_115ns/doubles/C2doubles00001.trc'], \n",
       "      dtype='|S108')"
      ]
     },
     "execution_count": 137,
     "metadata": {},
     "output_type": "execute_result"
    }
   ],
   "source": [
    "a = np.genfromtxt(results_directory + 'filelist_zero_photon.dat', delimiter='\\n',dtype='string')"
   ]
  },
  {
   "cell_type": "code",
   "execution_count": 20,
   "metadata": {},
   "outputs": [
    {
     "data": {
      "text/plain": [
       "('area_win', 'height', 'rms')"
      ]
     },
     "execution_count": 20,
     "metadata": {},
     "output_type": "execute_result"
    }
   ],
   "source": [
    "trace_parameters.dtype.names"
   ]
  },
  {
   "cell_type": "code",
   "execution_count": 14,
   "metadata": {},
   "outputs": [
    {
     "name": "stdout",
     "output_type": "stream",
     "text": [
      "0.00181221403007\n"
     ]
    }
   ],
   "source": [
    "rms = np.mean(trace_parameters['rms'][mask_0ph])\n",
    "np.savetxt(results_directory + 'rms.dat', \n",
    "           [rms],\n",
    "           header='rms')\n",
    "print rms"
   ]
  },
  {
   "cell_type": "code",
   "execution_count": 46,
   "metadata": {},
   "outputs": [
    {
     "data": {
      "text/plain": [
       "277.88884986500858"
      ]
     },
     "execution_count": 46,
     "metadata": {},
     "output_type": "execute_result"
    }
   ],
   "source": [
    "result_height"
   ]
  },
  {
   "cell_type": "code",
   "execution_count": null,
   "metadata": {
    "collapsed": true
   },
   "outputs": [],
   "source": []
  }
 ],
 "metadata": {
  "kernelspec": {
   "display_name": "Python 2",
   "language": "python",
   "name": "python2"
  },
  "language_info": {
   "codemirror_mode": {
    "name": "ipython",
    "version": 2
   },
   "file_extension": ".py",
   "mimetype": "text/x-python",
   "name": "python",
   "nbconvert_exporter": "python",
   "pygments_lexer": "ipython2",
   "version": "2.7.12"
  }
 },
 "nbformat": 4,
 "nbformat_minor": 2
}
