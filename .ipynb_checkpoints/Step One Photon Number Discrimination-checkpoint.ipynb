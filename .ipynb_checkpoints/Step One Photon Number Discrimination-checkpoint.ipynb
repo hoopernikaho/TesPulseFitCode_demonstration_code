{
 "cells": [
  {
   "cell_type": "markdown",
   "metadata": {},
   "source": [
    "# Step One Photon Number Discrimination\n",
    "* Determine the height thresholds for 2 level discrminator\n",
    "* Obtain area histogram of traces\n",
    "* Use area histogram to categorise photon number in traces"
   ]
  },
  {
   "cell_type": "raw",
   "metadata": {},
   "source": [
    "Output files:\n",
    "List of n=1 traces\n",
    "List of n=2 traces\n",
    "Data file with:\n",
    "    Height threshold\n",
    "    Noise threshold\n",
    "    n=1 integral center\n",
    "    n=2 integral limits"
   ]
  },
  {
   "cell_type": "code",
   "execution_count": 14,
   "metadata": {
    "collapsed": true
   },
   "outputs": [],
   "source": [
    "from __future__ import division\n",
    "import tqdm\n",
    "import os\n",
    "import sys\n",
    "sys.path.append('/mnt/disk0/home/jianwei_leejw/scripts/TESPulseFitCode')\n",
    "\n",
    "import scipy\n",
    "import numpy as np\n",
    "import matplotlib\n",
    "import matplotlib.pyplot as plt\n",
    "import glob\n",
    "import pickle\n",
    "from multiprocess import Pool\n",
    "\n",
    "import seaborn\n",
    "\n",
    "import heralded_pulses_analysis as hpa\n",
    "import thres_poiss\n",
    "import thres\n",
    "import pulse_utils as pu"
   ]
  },
  {
   "cell_type": "code",
   "execution_count": 4,
   "metadata": {
    "collapsed": true
   },
   "outputs": [],
   "source": [
    "# Imports CW traces\n",
    "directories = ['/mnt/disk1/data/20170523_TES5_75mK_95uA_trise_115ns/doubles/',\n",
    "              '/mnt/disk1/data/20170523_TES5_75mK_95uA_trise_115ns/doubles_more/',\n",
    "              '/mnt/disk1/data/20170523_TES5_75mK_95uA_trise_115ns/doubles_more_more/',\n",
    "              '/mnt/disk1/data/20170523_TES5_75mK_95uA_trise_115ns/doubles_more_more_more/']\n",
    "results_directory = './'\n",
    "filelist=[]\n",
    "for directory_name in directories:\n",
    "    subfilelist = np.array(glob.glob(directory_name + '*.trc'))\n",
    "    filelist.extend(subfilelist)\n",
    "filelist = np.sort(np.array(filelist))"
   ]
  },
  {
   "cell_type": "markdown",
   "metadata": {},
   "source": [
    "# Get Approximate Height Threshold\n",
    "Estimate threshold height to discriminate between electrical noise and photodetection events.\n",
    "\n",
    "Gets maximum height of pulses, histograms the heights. \n",
    "\n",
    "Fit the distributions to a model to find the minimum crossing point between the distributions.\n",
    "\n",
    "The resolution of this distribution will not be optimal due to the presence of partial pulses at the edges."
   ]
  },
  {
   "cell_type": "code",
   "execution_count": 12,
   "metadata": {
    "collapsed": true
   },
   "outputs": [],
   "source": [
    "sample_size = int(0.1*len(filelist)) # number of samples to obtain height threshold from"
   ]
  },
  {
   "cell_type": "code",
   "execution_count": 13,
   "metadata": {},
   "outputs": [
    {
     "name": "stderr",
     "output_type": "stream",
     "text": [
      "100%|██████████| 40000/40000 [00:20<00:00, 1928.41it/s]\n"
     ]
    }
   ],
   "source": [
    "max_heights = np.array([hpa.max_height(f) for f in tqdm.tqdm(filelist[:sample_size])])"
   ]
  },
  {
   "cell_type": "code",
   "execution_count": 14,
   "metadata": {
    "collapsed": true
   },
   "outputs": [],
   "source": [
    "bins = 150\n",
    "height_distribution = np.histogram(max_heights, bins)"
   ]
  },
  {
   "cell_type": "code",
   "execution_count": 20,
   "metadata": {
    "collapsed": true
   },
   "outputs": [],
   "source": [
    "height_th_approx = thres_poiss.thresholds_N(height_distribution, \n",
    "                                            min_peak_sep=0.01, \n",
    "                                            weighted=True)"
   ]
  },
  {
   "cell_type": "code",
   "execution_count": 80,
   "metadata": {},
   "outputs": [
    {
     "data": {
      "image/png": "[encoded data removed]",
      "text/plain": [
       "<matplotlib.figure.Figure at 0x7f744f656f90>"
      ]
     },
     "metadata": {},
     "output_type": "display_data"
    }
   ],
   "source": [
    "plt.title('Maximum Height Distribution\\nSample size = {}'.format(sample_size))\n",
    "plt.bar(height_distribution[1][:-1],\n",
    "        height_distribution[0], \n",
    "        width = np.diff(height_distribution[1])[0],\n",
    "        align='center')\n",
    "plt.axvline(height_th_approx, label='height_th_approx', linestyle='--')\n",
    "plt.legend()\n",
    "plt.show()"
   ]
  },
  {
   "cell_type": "markdown",
   "metadata": {},
   "source": [
    "# Get Height Threshold (excluding partial pulses)\n",
    "The maximum height of pulses at the edge of the acquisition window do not report the peak photodetection signal - they are obscured.\n",
    "\n",
    "We use the approximate height obtained to initialise a two level discriminator.\n",
    "\n",
    "The discriminator has 3 inputs:\n",
    "* high_th: the level crossing that identifies the signal as a photodetection event\n",
    "* low_th: the level crossing that turns the discriminator logic off\n",
    "* offset: the number of data points that the discriminator window extends, in order to improve the signal to noise ratio\n",
    "\n",
    "We use param_extr to calculate these values, \n",
    "(within discriminated windows, while ignoring partial traces)\n",
    "* max height \n",
    "* rms \n",
    "* absolute area "
   ]
  },
  {
   "cell_type": "code",
   "execution_count": 69,
   "metadata": {},
   "outputs": [
    {
     "name": "stdout",
     "output_type": "stream",
     "text": [
      "650\n"
     ]
    }
   ],
   "source": [
    "# Calculate offset value as a function of points\n",
    "time_vector = pu.time_vector(filelist[0])\n",
    "dt = np.diff(time_vector)[0]\n",
    "offset = int(1300e-9/dt)\n",
    "print offset"
   ]
  },
  {
   "cell_type": "code",
   "execution_count": 70,
   "metadata": {},
   "outputs": [
    {
     "name": "stderr",
     "output_type": "stream",
     "text": [
      "100%|██████████| 40000/40000 [01:28<00:00, 450.98it/s]\n"
     ]
    }
   ],
   "source": [
    "trace_parameters_approx = np.array([hpa.param_extr(f,\n",
    "                                   high_th = height_th_approx,\n",
    "                                   low_th = 0,\n",
    "                                   offset = offset)\n",
    "                   for f in tqdm.tqdm(filelist[:sample_size])])"
   ]
  },
  {
   "cell_type": "code",
   "execution_count": 83,
   "metadata": {
    "collapsed": true
   },
   "outputs": [],
   "source": [
    "trace_parameters_approx = np.array(trace_parameters_approx)"
   ]
  },
  {
   "cell_type": "code",
   "execution_count": 72,
   "metadata": {
    "collapsed": true
   },
   "outputs": [],
   "source": [
    "max_heights_discriminated = trace_parameters_approx['height']"
   ]
  },
  {
   "cell_type": "code",
   "execution_count": 76,
   "metadata": {
    "collapsed": true
   },
   "outputs": [],
   "source": [
    "bins = 150\n",
    "height_distribution_discriminated = np.histogram(max_heights_discriminated, bins)"
   ]
  },
  {
   "cell_type": "code",
   "execution_count": 77,
   "metadata": {
    "collapsed": true
   },
   "outputs": [],
   "source": [
    "height_th = thres_poiss.thresholds_N(height_distribution_discriminated, \n",
    "                                            min_peak_sep=0.01, \n",
    "                                            weighted=True)"
   ]
  },
  {
   "cell_type": "code",
   "execution_count": 81,
   "metadata": {},
   "outputs": [
    {
     "data": {
      "image/png": "[encoded data removed]",
      "text/plain": [
       "<matplotlib.figure.Figure at 0x7f74525b74d0>"
      ]
     },
     "metadata": {},
     "output_type": "display_data"
    }
   ],
   "source": [
    "plt.title('Maximum Height Distribution (ignoring edges)\\nSample size = {}'.format(sample_size))\n",
    "plt.bar(height_distribution_discriminated[1][:-1],\n",
    "        height_distribution_discriminated[0], \n",
    "        width = np.diff(height_distribution_discriminated[1])[0],\n",
    "        align='center')\n",
    "plt.axvline(height_th, label='height_th', linestyle='--')\n",
    "plt.legend()\n",
    "plt.show()"
   ]
  },
  {
   "cell_type": "markdown",
   "metadata": {},
   "source": [
    "# Calculate trace parameters with height threshold (obtained excluding partial pulses)\n",
    "* Computes trace parameters for ALL traces\n",
    "* Speeds up tasks with multiprocessing"
   ]
  },
  {
   "cell_type": "code",
   "execution_count": 105,
   "metadata": {},
   "outputs": [
    {
     "name": "stderr",
     "output_type": "stream",
     "text": [
      "\r",
      "  0%|          | 0/400000 [00:00<?, ?it/s]"
     ]
    }
   ],
   "source": [
    "tasks = tqdm.tqdm(filelist)\n",
    "def param_extr_poolable(f):\n",
    "    \"\"\"poolable version of parameter extractor\"\"\"\n",
    "    return hpa.param_extr(f,\n",
    "                   high_th = height_th,\n",
    "                   low_th = 0,\n",
    "                   offset = offset)"
   ]
  },
  {
   "cell_type": "code",
   "execution_count": 91,
   "metadata": {},
   "outputs": [],
   "source": [
    "if os.path.isfile(results_directory + 'trace_params.dat'):\n",
    "    trace_parameters = np.genfromtxt(results_directory + 'trace_params.dat', names=True)\n",
    "else:\n",
    "    trace_parameters = np.array(Pool(2).map(param_extr_poolable, tasks))"
   ]
  },
  {
   "cell_type": "code",
   "execution_count": 92,
   "metadata": {},
   "outputs": [],
   "source": [
    "area = trace_parameters['area_win']"
   ]
  },
  {
   "cell_type": "markdown",
   "metadata": {},
   "source": [
    "# Fit Area Distribution\n",
    "* Threshold (th01) between n=0, n=1 determined by seeking the minimum between the two distributions.\n",
    "* N >= 1 distributions fitted with Gaussian multiplied by Poisson coefficients\n",
    "* N=1 distribution is selected to be within 2 sigmas of its distribution.\n",
    "* N=2 distribution selected to be within th12 and th23"
   ]
  },
  {
   "cell_type": "code",
   "execution_count": 108,
   "metadata": {
    "collapsed": true
   },
   "outputs": [],
   "source": [
    "bins = 200\n",
    "area_distribution = np.histogram(area, bins) "
   ]
  },
  {
   "cell_type": "code",
   "execution_count": 155,
   "metadata": {},
   "outputs": [
    {
     "name": "stdout",
     "output_type": "stream",
     "text": [
      "est peak pos = [  1.55496654   5.65442377  10.88476576  14.56014122]\n",
      "est peak hts = [ 176 5137  417   57]\n",
      "th01 = 2.75653158938\n",
      "[[Model]]\n",
      "    ((Model(gaussian, prefix='g1_') + Model(gaussian, prefix='g2_')) + Model(gaussian, prefix='g3_'))\n",
      "[[Variables]]\n",
      "    n_bar:          0.26081056 (init= 0.2)\n",
      "    A:              55122.2326 (init= 15411)\n",
      "    Delta_E:        66.2540219 (init= 3.675375)\n",
      "    sigma_p:        0.91812270 (init= 0.6752372)\n",
      "    g1_center:      5.64186764 (init= 5.654424)\n",
      "    g2_center:      11.0583782 (init= 10.88477)\n",
      "    g3_center:      16.1354182 (init= 14.56014)\n",
      "    g1_amplitude:   11076.0112  == 'A * exp(-n_bar) * n_bar**1 / factorial(1)'\n",
      "    g2_amplitude:   1444.37035  == 'A * exp(-n_bar) * n_bar**2 / factorial(2)'\n",
      "    g3_amplitude:   125.569015  == 'A * exp(-n_bar) * n_bar**3 / factorial(3)'\n",
      "    g1_sigma:       0.91812270  == 'sigma_p * sqrt(1)'\n",
      "    g2_sigma:       1.29842157  == 'sigma_p * sqrt(2)'\n",
      "    g3_sigma:       1.59023516  == 'sigma_p * sqrt(3)'\n",
      "\n"
     ]
    },
    {
     "data": {
      "image/png": "[encoded data removed]",
      "text/plain": [
       "<matplotlib.figure.Figure at 0x7f73f6758a90>"
      ]
     },
     "metadata": {},
     "output_type": "display_data"
    }
   ],
   "source": [
    "reload(thres)\n",
    "result = thres.gauss_fit_poiss_ph_region(area_distribution,\n",
    "                                          min_peak_sep=3, \n",
    "                                          threshold=1e-2, \n",
    "                                          weighted=True,\n",
    "                                          plot=True)\n",
    "plt.title('Area (within Discriminator) Distribution')\n",
    "plt.ylim(0,6000)\n",
    "plt.xlim(0,15)\n",
    "plt.show()"
   ]
  },
  {
   "cell_type": "code",
   "execution_count": 123,
   "metadata": {
    "collapsed": true
   },
   "outputs": [],
   "source": [
    "th01 = 2.75653158938"
   ]
  },
  {
   "cell_type": "code",
   "execution_count": 124,
   "metadata": {},
   "outputs": [
    {
     "name": "stdout",
     "output_type": "stream",
     "text": [
      "est peak pos = [  1.55496654   5.65442377  10.88476576  14.56014122]\n",
      "est peak hts = [ 176 5137  417   57]\n",
      "th01 = 2.75653158938\n",
      "at threshold 7.96245477591 between 5.64186764298 and 11.058378264:\n",
      "prob signal lost = 0.00855408773774\n",
      "prob noise enters = 0.00574332104342\n",
      "at threshold 13.4215650264 between 11.058378264 and 16.1354182116:\n",
      "prob signal lost = 0.043950677705\n",
      "prob noise enters = 0.0343760138128\n",
      "[7.9624547759058606, 13.421565026402092]\n"
     ]
    }
   ],
   "source": [
    "reload(thres)\n",
    "thresholds = thres.thresholds_N(area_distribution,\n",
    "                              min_peak_sep=3, \n",
    "                              threshold=1e-2, \n",
    "                              weighted=True)\n",
    "print thresholds"
   ]
  },
  {
   "cell_type": "markdown",
   "metadata": {},
   "source": [
    "# Photon Number Masks"
   ]
  },
  {
   "cell_type": "code",
   "execution_count": 127,
   "metadata": {
    "collapsed": true
   },
   "outputs": [],
   "source": [
    "# creates mask for photon number\n",
    "mask_0ph = (area < th01)\n",
    "\n",
    "mask_1ph = (area > result.best_values['g1_center']-2*result.best_values['g1_sigma'])&\\\n",
    "           (area < result.best_values['g1_center']+2*result.best_values['g1_sigma'])\n",
    "\n",
    "mask_2ph = (area > thresholds[0])&(area < thresholds[1])"
   ]
  },
  {
   "cell_type": "markdown",
   "metadata": {},
   "source": [
    "# Save filelists and fit results"
   ]
  },
  {
   "cell_type": "code",
   "execution_count": 131,
   "metadata": {
    "collapsed": true
   },
   "outputs": [],
   "source": [
    "# saves filelist of n = 0, 1, 2 photons\n",
    "hpa.append2file(results_directory + 'filelist_zero_photon.dat',\"\\n\".join(filelist[mask_0ph]))\n",
    "hpa.append2file(results_directory + 'filelist_single_photon.dat',\"\\n\".join(filelist[mask_1ph]))\n",
    "hpa.append2file(results_directory + 'filelist_two_photon.dat',\"\\n\".join(filelist[mask_2ph]))"
   ]
  },
  {
   "cell_type": "code",
   "execution_count": 138,
   "metadata": {
    "collapsed": true
   },
   "outputs": [],
   "source": [
    "# saves whole filelist and trace parameters for future reference\n",
    "hpa.append2file(results_directory + 'filelist.dat',\"\\n\".join(filelist))\n",
    "np.savetxt(results_directory + 'trace_params.dat',trace_parameters,header=\"\\t\".join(trace_parameters.dtype.names))"
   ]
  },
  {
   "cell_type": "code",
   "execution_count": 151,
   "metadata": {
    "collapsed": true
   },
   "outputs": [],
   "source": [
    "# saves fit results of area distribution\n",
    "f = open(results_directory + 'area_distribution_lmfit_result.dat','wb')\n",
    "pickle.dump(result,f)\n",
    "f.close()"
   ]
  },
  {
   "cell_type": "code",
   "execution_count": null,
   "metadata": {
    "collapsed": true
   },
   "outputs": [],
   "source": [
    "# saves discriminator settings\n"
   ]
  },
  {
   "cell_type": "markdown",
   "metadata": {},
   "source": [
    "# Calculate RMS noise of n=0 traces"
   ]
  },
  {
   "cell_type": "code",
   "execution_count": 137,
   "metadata": {},
   "outputs": [
    {
     "data": {
      "text/plain": [
       "array([ '/mnt/disk1/data/20170523_TES5_75mK_95uA_trise_115ns/doubles/C2doubles00000.trc',\n",
       "       '/mnt/disk1/data/20170523_TES5_75mK_95uA_trise_115ns/doubles/C2doubles00001.trc'], \n",
       "      dtype='|S108')"
      ]
     },
     "execution_count": 137,
     "metadata": {},
     "output_type": "execute_result"
    }
   ],
   "source": [
    "a = np.genfromtxt(results_directory + 'filelist_zero_photon.dat', delimiter='\\n',dtype='string')"
   ]
  },
  {
   "cell_type": "code",
   "execution_count": 84,
   "metadata": {
    "collapsed": true
   },
   "outputs": [],
   "source": [
    "rms = np.mean(trace_parameters['rms'][mask_0ph])"
   ]
  },
  {
   "cell_type": "markdown",
   "metadata": {},
   "source": [
    "f = open(results_directory + 'area_distribution_lmfit_result.dat','r')\n",
    "a = pickle.load(f)"
   ]
  }
 ],
 "metadata": {
  "kernelspec": {
   "display_name": "Python 2",
   "language": "python",
   "name": "python2"
  },
  "language_info": {
   "codemirror_mode": {
    "name": "ipython",
    "version": 2
   },
   "file_extension": ".py",
   "mimetype": "text/x-python",
   "name": "python",
   "nbconvert_exporter": "python",
   "pygments_lexer": "ipython2",
   "version": "2.7.12"
  }
 },
 "nbformat": 4,
 "nbformat_minor": 2
}
