{
 "cells": [
  {
   "cell_type": "code",
   "execution_count": 1,
   "metadata": {
    "collapsed": true
   },
   "outputs": [],
   "source": [
    "from __future__ import division\n",
    "import tqdm\n",
    "import os\n",
    "import sys\n",
    "sys.path.append('/mnt/disk0/home/jianwei_leejw/scripts/TESPulseFitCode')\n",
    "# sys.path.append('/workspace/projects/TES/scripts')\n",
    "import numpy as np\n",
    "import matplotlib\n",
    "# matplotlib.use('nbAgg')\n",
    "%matplotlib inline\n",
    "import matplotlib.pyplot as plt\n",
    "import glob\n",
    "from lmfit import Model, Parameters\n",
    "import pymc\n",
    "import seaborn\n",
    "from scipy.stats import norm\n",
    "from scipy.signal import savgol_filter\n",
    "from scipy.fftpack import fft, rfft, fftshift\n",
    "import pickle\n",
    "import time as datetime\n",
    "import pandas\n",
    "import pprint\n",
    "\n",
    "import heralded_pulses_analysis as hpa\n",
    "import pulse_averaging_cw as pacw\n",
    "import pulse_fit_v05 as pf\n",
    "import pulse_fit_v06 as pf6\n",
    "import single_photon_model_no_shift as noshift\n",
    "import pulse_averaging as pa\n",
    "import thres_poiss\n",
    "import pulse_discrimination as pd\n",
    "import thres\n",
    "import stats_proc as sp\n",
    "\n",
    "import pulse_utils as pu\n",
    "import discriminator as disc\n",
    "import discriminator_edges as disc_edges\n",
    "import trace_param as trcp"
   ]
  },
  {
   "cell_type": "code",
   "execution_count": 2,
   "metadata": {},
   "outputs": [
    {
     "name": "stdout",
     "output_type": "stream",
     "text": [
      "[ '/mnt/disk1/data/20170523_TES5_75mK_95uA_trise_115ns/doubles/C2doubles00000.trc'\n",
      " '/mnt/disk1/data/20170523_TES5_75mK_95uA_trise_115ns/doubles/C2doubles00001.trc']\n",
      "400000\n"
     ]
    }
   ],
   "source": [
    "# Imports CW traces\n",
    "directories = ['/mnt/disk1/data/20170523_TES5_75mK_95uA_trise_115ns/doubles/',\n",
    "              '/mnt/disk1/data/20170523_TES5_75mK_95uA_trise_115ns/doubles_more/',\n",
    "              '/mnt/disk1/data/20170523_TES5_75mK_95uA_trise_115ns/doubles_more_more/',\n",
    "              '/mnt/disk1/data/20170523_TES5_75mK_95uA_trise_115ns/doubles_more_more_more/']\n",
    "results_directory = './'\n",
    "filelist=[]\n",
    "for directory_name in directories:\n",
    "    subfilelist = np.array(glob.glob(directory_name + '*.trc'))\n",
    "    filelist.extend(subfilelist)\n",
    "filelist = np.array(filelist)\n",
    "# filelist = np.flipud(np.sort(filelist))\n",
    "filelist = np.sort(filelist)\n",
    "print(filelist[0:2])\n",
    "print len(filelist)"
   ]
  },
  {
   "cell_type": "code",
   "execution_count": 3,
   "metadata": {
    "collapsed": true
   },
   "outputs": [],
   "source": [
    "t_initial = None\n",
    "t_final = None\n",
    "height_th = 0.00773176320829\n",
    "noise_th = 0.00183298303024"
   ]
  },
  {
   "cell_type": "code",
   "execution_count": 62,
   "metadata": {},
   "outputs": [
    {
     "name": "stdout",
     "output_type": "stream",
     "text": [
      "10 loops, best of 3: 162 ms per loop\n"
     ]
    }
   ],
   "source": [
    "reload(pd)\n",
    "%timeit pd.discriminator(t,s[1:], dt_left=0,dt_right=1300e-9, height_th=height_th, Plot=False, method=2)"
   ]
  },
  {
   "cell_type": "code",
   "execution_count": 44,
   "metadata": {},
   "outputs": [
    {
     "name": "stdout",
     "output_type": "stream",
     "text": [
      "1000 loops, best of 3: 386 µs per loop\n"
     ]
    }
   ],
   "source": [
    "reload(pu)\n",
    "%timeit pu.disc_peak_full(s,height_th,0,650)"
   ]
  },
  {
   "cell_type": "code",
   "execution_count": 5,
   "metadata": {},
   "outputs": [
    {
     "ename": "NameError",
     "evalue": "name 'append2file' is not defined",
     "output_type": "error",
     "traceback": [
      "\u001b[0;31m--------------------------------------------------------------------------\u001b[0m",
      "\u001b[0;31mNameError\u001b[0m                                Traceback (most recent call last)",
      "\u001b[0;32m<ipython-input-5-7bdd73dbb59e>\u001b[0m in \u001b[0;36m<module>\u001b[0;34m()\u001b[0m\n\u001b[1;32m      1\u001b[0m \u001b[0;31m# np.savetxt('peak_disc_challenging_twoandahalf_traces.txt',\u001b[0m\u001b[0;34m\u001b[0m\u001b[0;34m\u001b[0m\u001b[0m\n\u001b[1;32m      2\u001b[0m \u001b[0;31m#            np.take(interesting_traces, [5,7,17,18,25,28]))\u001b[0m\u001b[0;34m\u001b[0m\u001b[0;34m\u001b[0m\u001b[0m\n\u001b[0;32m----> 3\u001b[0;31m append2file('peak_disc_challenging_forward_neq_backward_traces.txt',\n\u001b[0m\u001b[1;32m      4\u001b[0m             interesting_traces[70])\n",
      "\u001b[0;31mNameError\u001b[0m: name 'append2file' is not defined"
     ]
    }
   ],
   "source": [
    "# np.savetxt('peak_disc_challenging_twoandahalf_traces.txt',\n",
    "#            np.take(interesting_traces, [5,7,17,18,25,28]))\n",
    "append2file('peak_disc_challenging_forward_neq_backward_traces.txt',\n",
    "            interesting_traces[70])"
   ]
  },
  {
   "cell_type": "code",
   "execution_count": 6,
   "metadata": {
    "collapsed": true
   },
   "outputs": [],
   "source": [
    "def append2file(filename,text):\n",
    "    with open(filename,\"a+\") as f:\n",
    "        f.write(text+'\\n')\n",
    "        f.close()"
   ]
  },
  {
   "cell_type": "code",
   "execution_count": 7,
   "metadata": {},
   "outputs": [
    {
     "name": "stderr",
     "output_type": "stream",
     "text": [
      "\n",
      "  0%|          | 0/10000 [00:00<?, ?it/s]\u001b[A\n",
      "  0%|          | 12/10000 [00:00<01:24, 118.81it/s]\u001b[A\n",
      "  0%|          | 26/10000 [00:00<01:20, 123.96it/s]\u001b[A\n",
      "  0%|          | 40/10000 [00:00<01:17, 127.93it/s]\u001b[A\n",
      "  1%|          | 55/10000 [00:00<01:15, 132.36it/s]\u001b[A\n",
      "  1%|          | 72/10000 [00:00<01:10, 141.70it/s]\u001b[A\n",
      "  1%|          | 90/10000 [00:00<01:05, 150.71it/s]\u001b[A\n",
      "  1%|          | 109/10000 [00:00<01:01, 159.86it/s]\u001b[A\n",
      "  1%|▏         | 129/10000 [00:00<00:58, 169.77it/s]\u001b[A\n",
      "  2%|▏         | 153/10000 [00:00<00:53, 185.38it/s]\u001b[A\n",
      "  2%|▏         | 176/10000 [00:01<00:50, 195.51it/s]\u001b[A\n",
      "  2%|▏         | 196/10000 [00:01<00:50, 194.13it/s]\u001b[A\n",
      "  2%|▏         | 218/10000 [00:01<00:48, 200.79it/s]\u001b[A\n",
      "  2%|▏         | 242/10000 [00:01<00:46, 210.33it/s]\u001b[A\n",
      "  3%|▎         | 267/10000 [00:01<00:44, 220.71it/s]\u001b[A\n",
      "  3%|▎         | 292/10000 [00:01<00:42, 226.70it/s]\u001b[A\n",
      "  3%|▎         | 317/10000 [00:01<00:41, 232.83it/s]\u001b[A\n",
      "  3%|▎         | 342/10000 [00:01<00:41, 233.24it/s]\u001b[A\n",
      "  4%|▎         | 371/10000 [00:01<00:39, 245.97it/s]\u001b[A\n",
      "  4%|▍         | 400/10000 [00:01<00:37, 257.22it/s]\u001b[A\n",
      "  4%|▍         | 428/10000 [00:02<00:36, 262.74it/s]\u001b[A\n",
      "  5%|▍         | 458/10000 [00:02<00:35, 270.52it/s]\u001b[A\n",
      "  5%|▍         | 486/10000 [00:02<00:35, 269.98it/s]\u001b[A\n",
      "  5%|▌         | 518/10000 [00:02<00:33, 281.38it/s]\u001b[A\n",
      "  5%|▌         | 547/10000 [00:02<00:35, 265.35it/s]\u001b[A\n",
      "  6%|▌         | 574/10000 [00:02<00:36, 259.76it/s]\u001b[A\n",
      "  6%|▌         | 601/10000 [00:02<00:36, 257.09it/s]\u001b[A\n",
      "  6%|▋         | 631/10000 [00:02<00:35, 267.24it/s]\u001b[A\n",
      "  7%|▋         | 658/10000 [00:02<00:34, 267.24it/s]\u001b[A\n",
      "  7%|▋         | 688/10000 [00:02<00:33, 274.26it/s]\u001b[A\n",
      "  7%|▋         | 719/10000 [00:03<00:32, 284.00it/s]\u001b[A\n",
      "  8%|▊         | 751/10000 [00:03<00:31, 292.66it/s]\u001b[A\n",
      "  8%|▊         | 781/10000 [00:03<00:32, 283.83it/s]\u001b[A\n",
      "  8%|▊         | 810/10000 [00:03<00:32, 284.73it/s]\u001b[A\n",
      "  8%|▊         | 842/10000 [00:03<00:31, 292.35it/s]\u001b[A\n",
      "  9%|▊         | 874/10000 [00:03<00:30, 298.40it/s]\u001b[A\n",
      "  9%|▉         | 905/10000 [00:03<00:30, 299.77it/s]\u001b[A\n",
      "  9%|▉         | 936/10000 [00:03<00:30, 301.36it/s]\u001b[A\n",
      " 10%|▉         | 967/10000 [00:03<00:29, 301.71it/s]\u001b[A\n",
      " 10%|▉         | 999/10000 [00:04<00:29, 305.94it/s]\u001b[A\n",
      " 10%|█         | 1031/10000 [00:04<00:29, 307.20it/s]\u001b[A\n",
      " 11%|█         | 1063/10000 [00:04<00:28, 308.55it/s]\u001b[A\n",
      " 11%|█         | 1094/10000 [00:04<00:29, 300.39it/s]\u001b[A\n",
      " 11%|█▏        | 1125/10000 [00:04<00:30, 292.80it/s]\u001b[A\n",
      " 12%|█▏        | 1155/10000 [00:04<00:31, 280.85it/s]\u001b[A\n",
      " 12%|█▏        | 1184/10000 [00:04<00:31, 281.35it/s]\u001b[A\n",
      " 12%|█▏        | 1214/10000 [00:04<00:30, 286.68it/s]\u001b[A\n",
      " 12%|█▏        | 1246/10000 [00:04<00:29, 293.05it/s]\u001b[A\n",
      " 13%|█▎        | 1279/10000 [00:04<00:28, 302.37it/s]\u001b[A\n",
      " 13%|█▎        | 1310/10000 [00:05<00:28, 299.75it/s]\u001b[A\n",
      " 13%|█▎        | 1343/10000 [00:05<00:28, 307.90it/s]\u001b[A\n",
      " 14%|█▍        | 1377/10000 [00:05<00:27, 315.47it/s]\u001b[A\n",
      " 14%|█▍        | 1410/10000 [00:05<00:26, 318.27it/s]\u001b[A\n",
      " 14%|█▍        | 1442/10000 [00:05<00:27, 314.03it/s]\u001b[A\n",
      " 15%|█▍        | 1474/10000 [00:05<00:27, 312.47it/s]\u001b[A\n",
      "\n",
      " 15%|█▌        | 1506/10000 [00:05<00:27, 309.32it/s]\u001b[A\n",
      " 15%|█▌        | 1539/10000 [00:05<00:26, 315.07it/s]\u001b[A\n",
      " 16%|█▌        | 1573/10000 [00:05<00:26, 322.15it/s]\u001b[A\n",
      " 16%|█▌        | 1606/10000 [00:06<00:27, 310.62it/s]\u001b[A\n",
      " 16%|█▋        | 1639/10000 [00:06<00:26, 315.50it/s]\u001b[A\n",
      " 17%|█▋        | 1671/10000 [00:06<00:26, 315.36it/s]\u001b[A\n",
      " 17%|█▋        | 1704/10000 [00:06<00:26, 318.91it/s]\u001b[A\n",
      " 17%|█▋        | 1738/10000 [00:06<00:25, 322.52it/s]\u001b[A\n",
      " 18%|█▊        | 1771/10000 [00:06<00:25, 324.61it/s]\u001b[A\n",
      " 18%|█▊        | 1804/10000 [00:06<00:25, 316.18it/s]\u001b[A\n",
      " 18%|█▊        | 1836/10000 [00:06<00:26, 306.45it/s]\u001b[A\n",
      " 19%|█▊        | 1867/10000 [00:06<00:26, 305.15it/s]\u001b[A\n",
      " 19%|█▉        | 1899/10000 [00:06<00:26, 308.13it/s]\u001b[A\n",
      " 19%|█▉        | 1931/10000 [00:07<00:26, 310.01it/s]\u001b[A\n",
      " 20%|█▉        | 1963/10000 [00:07<00:26, 308.97it/s]\u001b[A\n",
      " 20%|█▉        | 1995/10000 [00:07<00:25, 310.54it/s]\u001b[A\n",
      " 20%|██        | 2027/10000 [00:07<00:25, 312.34it/s]\u001b[A\n",
      " 21%|██        | 2059/10000 [00:07<00:25, 311.41it/s]\u001b[A\n",
      " 21%|██        | 2091/10000 [00:07<00:25, 306.96it/s]\u001b[A\n",
      " 21%|██        | 2122/10000 [00:07<00:26, 300.16it/s]\u001b[A\n",
      " 22%|██▏       | 2153/10000 [00:07<00:25, 302.47it/s]\u001b[A\n",
      " 22%|██▏       | 2184/10000 [00:07<00:25, 301.83it/s]\u001b[A\n",
      " 22%|██▏       | 2215/10000 [00:07<00:25, 303.97it/s]\u001b[A\n",
      " 22%|██▏       | 2248/10000 [00:08<00:25, 309.35it/s]\u001b[A\n",
      " 23%|██▎       | 2281/10000 [00:08<00:24, 314.23it/s]\u001b[A\n",
      " 23%|██▎       | 2314/10000 [00:08<00:24, 316.48it/s]\u001b[A\n",
      " 23%|██▎       | 2346/10000 [00:08<00:25, 297.57it/s]\u001b[A\n",
      " 24%|██▍       | 2377/10000 [00:08<00:25, 297.78it/s]\u001b[A\n",
      " 24%|██▍       | 2408/10000 [00:08<00:25, 298.92it/s]\u001b[A\n",
      " 24%|██▍       | 2439/10000 [00:08<00:25, 295.29it/s]\u001b[A\n",
      " 25%|██▍       | 2470/10000 [00:08<00:25, 298.60it/s]\u001b[A\n",
      " 25%|██▌       | 2502/10000 [00:08<00:24, 303.46it/s]\u001b[A\n",
      " 25%|██▌       | 2533/10000 [00:09<00:25, 295.49it/s]\u001b[A\n",
      " 26%|██▌       | 2564/10000 [00:09<00:24, 297.59it/s]\u001b[A\n",
      " 26%|██▌       | 2594/10000 [00:09<00:25, 287.86it/s]\u001b[A\n",
      " 26%|██▋       | 2626/10000 [00:09<00:24, 296.79it/s]\u001b[A\n",
      " 27%|██▋       | 2659/10000 [00:09<00:24, 303.64it/s]\u001b[A\n",
      " 27%|██▋       | 2690/10000 [00:09<00:23, 304.94it/s]\u001b[A\n",
      " 27%|██▋       | 2722/10000 [00:09<00:23, 306.03it/s]\u001b[A\n",
      " 28%|██▊       | 2753/10000 [00:09<00:25, 283.78it/s]\u001b[A\n",
      " 28%|██▊       | 2785/10000 [00:09<00:24, 292.04it/s]\u001b[A\n",
      " 28%|██▊       | 2818/10000 [00:09<00:23, 301.26it/s]\u001b[A\n",
      " 28%|██▊       | 2849/10000 [00:10<00:23, 303.58it/s]\u001b[A\n",
      " 29%|██▉       | 2880/10000 [00:10<00:23, 300.99it/s]\u001b[A\n",
      " 29%|██▉       | 2912/10000 [00:10<00:23, 304.18it/s]\u001b[A\n",
      " 29%|██▉       | 2943/10000 [00:10<00:23, 299.86it/s]\u001b[A\n",
      " 30%|██▉       | 2974/10000 [00:10<00:23, 294.43it/s]\u001b[A\n",
      " 30%|███       | 3006/10000 [00:10<00:23, 300.37it/s]\u001b[A\n",
      " 30%|███       | 3039/10000 [00:10<00:22, 306.73it/s]\u001b[A\n",
      " 31%|███       | 3070/10000 [00:10<00:22, 305.15it/s]\u001b[A\n",
      " 31%|███       | 3102/10000 [00:10<00:22, 309.32it/s]\u001b[A\n",
      " 31%|███▏      | 3135/10000 [00:11<00:21, 312.23it/s]\u001b[A\n",
      " 32%|███▏      | 3167/10000 [00:11<00:21, 312.63it/s]\u001b[A\n",
      " 32%|███▏      | 3201/10000 [00:11<00:21, 318.86it/s]\u001b[A\n",
      " 32%|███▏      | 3234/10000 [00:11<00:21, 321.13it/s]\u001b[A\n",
      " 33%|███▎      | 3267/10000 [00:11<00:21, 309.58it/s]\u001b[A\n",
      " 33%|███▎      | 3299/10000 [00:11<00:21, 308.37it/s]\u001b[A\n",
      " 33%|███▎      | 3332/10000 [00:11<00:21, 312.71it/s]\u001b[A\n",
      " 34%|███▎      | 3365/10000 [00:11<00:20, 316.22it/s]\u001b[A\n",
      " 34%|███▍      | 3397/10000 [00:11<00:20, 315.11it/s]\u001b[A\n",
      " 34%|███▍      | 3429/10000 [00:11<00:21, 301.35it/s]\u001b[A\n",
      " 35%|███▍      | 3462/10000 [00:12<00:21, 307.52it/s]\u001b[A\n",
      " 35%|███▍      | 3493/10000 [00:12<00:21, 305.99it/s]\u001b[A\n",
      " 35%|███▌      | 3527/10000 [00:12<00:20, 313.35it/s]\u001b[A\n",
      " 36%|███▌      | 3559/10000 [00:12<00:20, 313.99it/s]\u001b[A\n",
      " 36%|███▌      | 3591/10000 [00:12<00:21, 298.98it/s]\u001b[A\n",
      " 36%|███▌      | 3622/10000 [00:12<00:22, 287.48it/s]\u001b[A\n",
      " 37%|███▋      | 3654/10000 [00:12<00:21, 295.95it/s]\u001b[A\n",
      " 37%|███▋      | 3686/10000 [00:12<00:20, 301.28it/s]\u001b[A\n",
      " 37%|███▋      | 3717/10000 [00:12<00:20, 301.19it/s]\u001b[A\n",
      " 38%|███▊      | 3750/10000 [00:13<00:20, 307.27it/s]\u001b[A\n",
      " 38%|███▊      | 3781/10000 [00:13<00:20, 305.32it/s]\u001b[A\n",
      " 38%|███▊      | 3812/10000 [00:13<00:20, 297.11it/s]\u001b[A\n",
      " 38%|███▊      | 3842/10000 [00:13<00:21, 285.69it/s]\u001b[A\n",
      " 39%|███▊      | 3872/10000 [00:13<00:21, 289.74it/s]\u001b[A\n",
      " 39%|███▉      | 3906/10000 [00:13<00:20, 300.39it/s]\u001b[A\n",
      " 39%|███▉      | 3940/10000 [00:13<00:19, 310.15it/s]\u001b[A\n",
      " 40%|███▉      | 3973/10000 [00:13<00:19, 314.84it/s]\u001b[A\n",
      " 40%|████      | 4006/10000 [00:13<00:18, 317.70it/s]\u001b[A\n",
      " 40%|████      | 4038/10000 [00:13<00:19, 311.14it/s]\u001b[A\n",
      " 41%|████      | 4070/10000 [00:14<00:18, 313.70it/s]\u001b[A\n",
      " 41%|████      | 4103/10000 [00:14<00:18, 317.69it/s]\u001b[A\n",
      " 41%|████▏     | 4137/10000 [00:14<00:18, 321.77it/s]\u001b[A\n",
      " 42%|████▏     | 4170/10000 [00:14<00:18, 315.70it/s]\u001b[A\n",
      " 42%|████▏     | 4204/10000 [00:14<00:17, 322.39it/s]\u001b[A\n",
      " 42%|████▏     | 4238/10000 [00:14<00:17, 324.56it/s]\u001b[A\n",
      " 43%|████▎     | 4271/10000 [00:14<00:17, 322.60it/s]\u001b[A\n",
      " 43%|████▎     | 4304/10000 [00:14<00:17, 317.45it/s]\u001b[A\n",
      " 43%|████▎     | 4337/10000 [00:14<00:17, 320.05it/s]\u001b[A\n"
     ]
    },
    {
     "name": "stderr",
     "output_type": "stream",
     "text": [
      " 44%|████▎     | 4370/10000 [00:15<00:18, 306.20it/s]\u001b[A\n",
      " 44%|████▍     | 4401/10000 [00:15<00:18, 299.29it/s]\u001b[A\n",
      " 44%|████▍     | 4432/10000 [00:15<00:18, 299.55it/s]\u001b[A\n",
      " 45%|████▍     | 4463/10000 [00:15<00:18, 302.32it/s]\u001b[A\n",
      " 45%|████▍     | 4497/10000 [00:15<00:17, 312.45it/s]\u001b[A\n",
      " 45%|████▌     | 4529/10000 [00:15<00:17, 311.49it/s]\u001b[A\n",
      " 46%|████▌     | 4561/10000 [00:15<00:17, 302.82it/s]\u001b[A\n",
      " 46%|████▌     | 4592/10000 [00:15<00:18, 300.12it/s]\u001b[A\n",
      " 46%|████▌     | 4623/10000 [00:15<00:17, 302.55it/s]\u001b[A\n",
      " 47%|████▋     | 4656/10000 [00:15<00:17, 307.76it/s]\u001b[A\n",
      " 47%|████▋     | 4688/10000 [00:16<00:17, 309.07it/s]\u001b[A\n",
      " 47%|████▋     | 4721/10000 [00:16<00:16, 312.10it/s]\u001b[A\n",
      " 48%|████▊     | 4753/10000 [00:16<00:16, 311.72it/s]\u001b[A\n",
      " 48%|████▊     | 4786/10000 [00:16<00:16, 316.58it/s]\u001b[A\n",
      " 48%|████▊     | 4820/10000 [00:16<00:16, 322.07it/s]\u001b[A\n",
      " 49%|████▊     | 4854/10000 [00:16<00:15, 326.48it/s]\u001b[A\n",
      " 49%|████▉     | 4889/10000 [00:16<00:15, 330.08it/s]\u001b[A\n",
      " 49%|████▉     | 4923/10000 [00:16<00:16, 314.28it/s]\u001b[A\n",
      " 50%|████▉     | 4957/10000 [00:16<00:15, 319.08it/s]\u001b[A\n",
      " 50%|████▉     | 4992/10000 [00:16<00:15, 325.32it/s]\u001b[A\n",
      " 50%|█████     | 5026/10000 [00:17<00:15, 329.08it/s]\u001b[A\n",
      " 51%|█████     | 5060/10000 [00:17<00:15, 327.52it/s]\u001b[A\n",
      " 51%|█████     | 5093/10000 [00:17<00:15, 322.01it/s]\u001b[A\n",
      " 51%|█████▏    | 5126/10000 [00:17<00:15, 313.48it/s]\u001b[A\n",
      " 52%|█████▏    | 5158/10000 [00:17<00:15, 312.25it/s]\u001b[A\n",
      " 52%|█████▏    | 5190/10000 [00:17<00:15, 309.59it/s]\u001b[A\n",
      " 52%|█████▏    | 5222/10000 [00:17<00:15, 308.87it/s]\u001b[A\n",
      " 53%|█████▎    | 5257/10000 [00:17<00:14, 318.26it/s]\u001b[A\n",
      " 53%|█████▎    | 5289/10000 [00:17<00:15, 309.08it/s]\u001b[A\n",
      " 53%|█████▎    | 5321/10000 [00:18<00:15, 306.38it/s]\u001b[A\n",
      " 54%|█████▎    | 5354/10000 [00:18<00:14, 311.02it/s]\u001b[A\n",
      " 54%|█████▍    | 5388/10000 [00:18<00:14, 318.60it/s]\u001b[A\n",
      " 54%|█████▍    | 5422/10000 [00:18<00:14, 324.54it/s]\u001b[A\n",
      " 55%|█████▍    | 5455/10000 [00:18<00:13, 325.78it/s]\u001b[A\n",
      " 55%|█████▍    | 5488/10000 [00:18<00:14, 311.49it/s]\u001b[A\n",
      " 55%|█████▌    | 5520/10000 [00:18<00:14, 307.82it/s]\u001b[A\n",
      " 56%|█████▌    | 5552/10000 [00:18<00:14, 310.74it/s]\u001b[A\n",
      " 56%|█████▌    | 5586/10000 [00:18<00:13, 316.05it/s]\u001b[A\n",
      " 56%|█████▌    | 5620/10000 [00:18<00:13, 320.62it/s]\u001b[A\n",
      " 57%|█████▋    | 5654/10000 [00:19<00:13, 322.70it/s]\u001b[A\n",
      " 57%|█████▋    | 5687/10000 [00:19<00:13, 324.01it/s]\u001b[A\n",
      " 57%|█████▋    | 5722/10000 [00:19<00:13, 328.74it/s]\u001b[A\n",
      " 58%|█████▊    | 5755/10000 [00:19<00:13, 320.75it/s]\u001b[A\n",
      " 58%|█████▊    | 5788/10000 [00:19<00:13, 321.53it/s]\u001b[A\n",
      " 58%|█████▊    | 5821/10000 [00:19<00:12, 322.86it/s]\u001b[A\n",
      " 59%|█████▊    | 5854/10000 [00:19<00:12, 320.52it/s]\u001b[A\n",
      " 59%|█████▉    | 5887/10000 [00:19<00:13, 314.36it/s]\u001b[A\n",
      " 59%|█████▉    | 5920/10000 [00:19<00:12, 317.86it/s]\u001b[A\n",
      " 60%|█████▉    | 5955/10000 [00:20<00:12, 323.93it/s]\u001b[A\n",
      " 60%|█████▉    | 5988/10000 [00:20<00:12, 311.38it/s]\u001b[A\n",
      " 60%|██████    | 6021/10000 [00:20<00:12, 315.64it/s]\u001b[A\n",
      " 61%|██████    | 6053/10000 [00:20<00:12, 312.48it/s]\u001b[A\n",
      " 61%|██████    | 6086/10000 [00:20<00:12, 315.98it/s]\u001b[A\n",
      " 61%|██████    | 6119/10000 [00:20<00:12, 317.85it/s]\u001b[A\n",
      " 62%|██████▏   | 6152/10000 [00:20<00:12, 320.32it/s]\u001b[A\n",
      " 62%|██████▏   | 6186/10000 [00:20<00:11, 324.16it/s]\u001b[A\n",
      " 62%|██████▏   | 6220/10000 [00:20<00:11, 327.31it/s]\u001b[A\n",
      " 63%|██████▎   | 6253/10000 [00:20<00:11, 318.26it/s]\u001b[A\n",
      " 63%|██████▎   | 6285/10000 [00:21<00:11, 311.57it/s]\u001b[A\n",
      " 63%|██████▎   | 6318/10000 [00:21<00:11, 315.64it/s]\u001b[A\n",
      " 64%|██████▎   | 6352/10000 [00:21<00:11, 321.85it/s]\u001b[A\n",
      " 64%|██████▍   | 6387/10000 [00:21<00:11, 327.32it/s]\u001b[A\n",
      " 64%|██████▍   | 6420/10000 [00:21<00:11, 320.76it/s]\u001b[A\n",
      " 65%|██████▍   | 6453/10000 [00:21<00:11, 313.82it/s]\u001b[A\n",
      " 65%|██████▍   | 6486/10000 [00:21<00:11, 316.23it/s]\u001b[A\n",
      " 65%|██████▌   | 6518/10000 [00:21<00:11, 315.10it/s]\u001b[A\n",
      " 66%|██████▌   | 6550/10000 [00:21<00:11, 312.51it/s]\u001b[A\n",
      " 66%|██████▌   | 6582/10000 [00:22<00:10, 313.30it/s]\u001b[A\n",
      " 66%|██████▌   | 6614/10000 [00:22<00:10, 311.37it/s]\u001b[A\n",
      " 66%|██████▋   | 6647/10000 [00:22<00:10, 314.83it/s]\u001b[A\n",
      " 67%|██████▋   | 6679/10000 [00:22<00:10, 312.25it/s]\u001b[A\n",
      " 67%|██████▋   | 6711/10000 [00:22<00:10, 314.38it/s]\u001b[A\n",
      " 67%|██████▋   | 6743/10000 [00:22<00:10, 312.40it/s]\u001b[A\n",
      " 68%|██████▊   | 6775/10000 [00:22<00:10, 311.85it/s]\u001b[A\n",
      " 68%|██████▊   | 6807/10000 [00:22<00:10, 306.19it/s]\u001b[A\n",
      " 68%|██████▊   | 6839/10000 [00:22<00:10, 309.44it/s]\u001b[A\n",
      " 69%|██████▊   | 6871/10000 [00:22<00:10, 310.08it/s]\u001b[A\n",
      " 69%|██████▉   | 6904/10000 [00:23<00:09, 314.65it/s]\u001b[A\n",
      " 69%|██████▉   | 6936/10000 [00:23<00:09, 311.54it/s]\u001b[A\n",
      " 70%|██████▉   | 6968/10000 [00:23<00:09, 310.12it/s]\u001b[A\n",
      " 70%|███████   | 7000/10000 [00:23<00:09, 309.29it/s]\u001b[A\n",
      " 70%|███████   | 7031/10000 [00:23<00:09, 305.63it/s]\u001b[A\n",
      " 71%|███████   | 7062/10000 [00:23<00:09, 304.76it/s]\u001b[A\n",
      " 71%|███████   | 7095/10000 [00:23<00:09, 309.29it/s]\u001b[A\n",
      " 71%|███████▏  | 7126/10000 [00:23<00:09, 309.05it/s]\u001b[A\n",
      " 72%|███████▏  | 7157/10000 [00:23<00:09, 306.87it/s]\u001b[A\n",
      " 72%|███████▏  | 7189/10000 [00:23<00:09, 310.16it/s]\u001b[A\n",
      " 72%|███████▏  | 7224/10000 [00:24<00:08, 318.83it/s]\u001b[A\n",
      " 73%|███████▎  | 7258/10000 [00:24<00:08, 324.25it/s]\u001b[A\n",
      " 73%|███████▎  | 7291/10000 [00:24<00:08, 318.83it/s]\u001b[A\n",
      " 73%|███████▎  | 7324/10000 [00:24<00:08, 319.51it/s]\u001b[A\n",
      " 74%|███████▎  | 7357/10000 [00:24<00:08, 309.27it/s]\u001b[A\n",
      " 74%|███████▍  | 7389/10000 [00:24<00:08, 301.14it/s]\u001b[A\n",
      " 74%|███████▍  | 7420/10000 [00:24<00:08, 295.31it/s]\u001b[A\n",
      " 74%|███████▍  | 7450/10000 [00:24<00:08, 295.29it/s]\u001b[A\n",
      " 75%|███████▍  | 7482/10000 [00:24<00:08, 299.17it/s]\u001b[A\n",
      " 75%|███████▌  | 7513/10000 [00:25<00:08, 299.71it/s]\u001b[A\n",
      " 75%|███████▌  | 7544/10000 [00:25<00:08, 281.93it/s]\u001b[A\n",
      " 76%|███████▌  | 7573/10000 [00:25<00:08, 279.31it/s]\u001b[A\n",
      " 76%|███████▌  | 7605/10000 [00:25<00:08, 288.24it/s]\u001b[A\n",
      " 76%|███████▋  | 7637/10000 [00:25<00:07, 296.24it/s]\u001b[A\n",
      " 77%|███████▋  | 7670/10000 [00:25<00:07, 304.75it/s]\u001b[A\n",
      " 77%|███████▋  | 7702/10000 [00:25<00:07, 306.70it/s]\u001b[A\n",
      " 77%|███████▋  | 7733/10000 [00:25<00:07, 296.16it/s]\u001b[A\n",
      " 78%|███████▊  | 7766/10000 [00:25<00:07, 303.22it/s]\u001b[A\n",
      " 78%|███████▊  | 7797/10000 [00:25<00:07, 304.70it/s]\u001b[A\n",
      " 78%|███████▊  | 7829/10000 [00:26<00:07, 308.32it/s]\u001b[A\n",
      " 79%|███████▊  | 7863/10000 [00:26<00:06, 314.90it/s]\u001b[A\n",
      " 79%|███████▉  | 7895/10000 [00:26<00:06, 316.19it/s]\u001b[A\n",
      " 79%|███████▉  | 7927/10000 [00:26<00:06, 315.00it/s]\u001b[A\n",
      " 80%|███████▉  | 7959/10000 [00:26<00:06, 313.78it/s]\u001b[A\n",
      " 80%|███████▉  | 7991/10000 [00:26<00:06, 314.27it/s]\u001b[A\n",
      " 80%|████████  | 8023/10000 [00:26<00:06, 312.29it/s]\u001b[A\n",
      " 81%|████████  | 8055/10000 [00:26<00:06, 312.07it/s]\u001b[A\n",
      " 81%|████████  | 8087/10000 [00:26<00:06, 305.98it/s]\u001b[A\n",
      " 81%|████████  | 8118/10000 [00:27<00:06, 306.85it/s]\u001b[A\n",
      " 82%|████████▏ | 8152/10000 [00:27<00:05, 314.73it/s]\u001b[A\n",
      " 82%|████████▏ | 8184/10000 [00:27<00:05, 313.44it/s]\u001b[A\n",
      " 82%|████████▏ | 8217/10000 [00:27<00:05, 315.51it/s]\u001b[A\n",
      " 82%|████████▎ | 8250/10000 [00:27<00:05, 319.67it/s]\u001b[A\n",
      " 83%|████████▎ | 8283/10000 [00:27<00:05, 316.74it/s]\u001b[A\n",
      " 83%|████████▎ | 8315/10000 [00:27<00:05, 308.10it/s]\u001b[A\n",
      " 83%|████████▎ | 8346/10000 [00:27<00:05, 301.48it/s]\u001b[A\n",
      " 84%|████████▍ | 8380/10000 [00:27<00:05, 311.51it/s]\u001b[A\n",
      " 84%|████████▍ | 8414/10000 [00:27<00:04, 318.10it/s]\u001b[A\n",
      " 84%|████████▍ | 8447/10000 [00:28<00:04, 320.74it/s]\u001b[A\n",
      " 85%|████████▍ | 8480/10000 [00:28<00:04, 321.42it/s]\u001b[A\n",
      " 85%|████████▌ | 8513/10000 [00:28<00:04, 323.12it/s]\u001b[A\n",
      " 85%|████████▌ | 8546/10000 [00:28<00:04, 322.88it/s]\u001b[A\n",
      " 86%|████████▌ | 8580/10000 [00:28<00:04, 327.68it/s]\u001b[A\n",
      " 86%|████████▌ | 8614/10000 [00:28<00:04, 327.71it/s]\u001b[A\n",
      " 86%|████████▋ | 8647/10000 [00:28<00:04, 321.23it/s]\u001b[A\n",
      " 87%|████████▋ | 8680/10000 [00:28<00:04, 309.15it/s]\u001b[A\n",
      " 87%|████████▋ | 8712/10000 [00:28<00:04, 310.72it/s]\u001b[A\n",
      " 87%|████████▋ | 8744/10000 [00:28<00:04, 310.19it/s]\u001b[A\n",
      " 88%|████████▊ | 8777/10000 [00:29<00:03, 313.20it/s]\u001b[A\n",
      " 88%|████████▊ | 8811/10000 [00:29<00:03, 319.15it/s]\u001b[A\n",
      " 88%|████████▊ | 8845/10000 [00:29<00:03, 322.50it/s]\u001b[A\n",
      " 89%|████████▉ | 8878/10000 [00:29<00:03, 320.91it/s]\u001b[A\n",
      " 89%|████████▉ | 8912/10000 [00:29<00:03, 324.01it/s]\u001b[A\n",
      " 89%|████████▉ | 8945/10000 [00:29<00:03, 312.43it/s]\u001b[A\n",
      " 90%|████████▉ | 8977/10000 [00:29<00:04, 255.23it/s]\u001b[A\n",
      " 90%|█████████ | 9007/10000 [00:29<00:03, 265.47it/s]\u001b[A\n"
     ]
    },
    {
     "name": "stderr",
     "output_type": "stream",
     "text": [
      " 90%|█████████ | 9039/10000 [00:29<00:03, 278.94it/s]\u001b[A\n",
      " 91%|█████████ | 9071/10000 [00:30<00:03, 289.59it/s]\u001b[A\n",
      " 91%|█████████ | 9105/10000 [00:30<00:02, 300.77it/s]\u001b[A\n",
      " 91%|█████████▏| 9140/10000 [00:30<00:02, 312.23it/s]\u001b[A\n",
      " 92%|█████████▏| 9172/10000 [00:30<00:02, 312.89it/s]\u001b[A\n",
      " 92%|█████████▏| 9204/10000 [00:30<00:02, 291.56it/s]\u001b[A\n",
      " 92%|█████████▏| 9234/10000 [00:30<00:02, 281.92it/s]\u001b[A\n",
      " 93%|█████████▎| 9266/10000 [00:30<00:02, 292.08it/s]\u001b[A\n",
      " 93%|█████████▎| 9299/10000 [00:30<00:02, 302.25it/s]\u001b[A\n",
      " 93%|█████████▎| 9331/10000 [00:30<00:02, 305.25it/s]\u001b[A\n",
      " 94%|█████████▎| 9362/10000 [00:31<00:02, 295.64it/s]\u001b[A\n",
      " 94%|█████████▍| 9392/10000 [00:31<00:02, 290.61it/s]\u001b[A\n",
      " 94%|█████████▍| 9424/10000 [00:31<00:01, 297.99it/s]\u001b[A\n",
      " 95%|█████████▍| 9458/10000 [00:31<00:01, 308.32it/s]\u001b[A\n",
      " 95%|█████████▍| 9490/10000 [00:31<00:01, 309.70it/s]\u001b[A\n",
      " 95%|█████████▌| 9522/10000 [00:31<00:01, 310.60it/s]\u001b[A\n",
      " 96%|█████████▌| 9554/10000 [00:31<00:01, 294.32it/s]\u001b[A\n",
      " 96%|█████████▌| 9584/10000 [00:31<00:01, 286.79it/s]\u001b[A\n",
      " 96%|█████████▌| 9613/10000 [00:31<00:01, 286.03it/s]\u001b[A\n",
      " 96%|█████████▋| 9644/10000 [00:32<00:01, 292.57it/s]\u001b[A\n",
      " 97%|█████████▋| 9674/10000 [00:32<00:01, 291.89it/s]\u001b[A\n",
      " 97%|█████████▋| 9704/10000 [00:32<00:01, 287.47it/s]\u001b[A\n",
      " 97%|█████████▋| 9735/10000 [00:32<00:00, 292.06it/s]\u001b[A\n",
      " 98%|█████████▊| 9766/10000 [00:32<00:00, 294.58it/s]\u001b[A\n",
      " 98%|█████████▊| 9796/10000 [00:32<00:00, 295.55it/s]\u001b[A\n",
      " 98%|█████████▊| 9826/10000 [00:32<00:00, 295.10it/s]\u001b[A\n",
      " 99%|█████████▊| 9856/10000 [00:32<00:00, 293.03it/s]\u001b[A\n",
      " 99%|█████████▉| 9887/10000 [00:32<00:00, 297.43it/s]\u001b[A\n",
      " 99%|█████████▉| 9920/10000 [00:32<00:00, 304.18it/s]\u001b[A\n",
      "100%|█████████▉| 9953/10000 [00:33<00:00, 311.10it/s]\u001b[A\n",
      "100%|█████████▉| 9986/10000 [00:33<00:00, 314.66it/s]\u001b[A\n",
      "100%|██████████| 10000/10000 [00:33<00:00, 301.39it/s]\u001b[A"
     ]
    }
   ],
   "source": [
    "reload(hpa)\n",
    "reload(pu)\n",
    "reload(disc)\n",
    "tasks = tqdm.tqdm(filelist[:10000])\n",
    "data_cont_=np.array([hpa.param_extr(f,height_th,0,650) for f in tasks])\n",
    "# for f in tasks:\n",
    "#     try:\n",
    "#         _,s = hpa.trace_extr(f,height_th)\n",
    "#         pu.disc_edges_full(s, height_th, noise_th)\n",
    "#     except:\n",
    "#         append2file('edge_disc_failure_traces.dat',f)"
   ]
  },
  {
   "cell_type": "code",
   "execution_count": 8,
   "metadata": {},
   "outputs": [
    {
     "data": {
      "text/plain": [
       "(0, 500)"
      ]
     },
     "execution_count": 8,
     "metadata": {},
     "output_type": "execute_result"
    },
    {
     "name": "stderr",
     "output_type": "stream",
     "text": [
      "/usr/local/lib/python2.7/dist-packages/matplotlib/font_manager.py:1297: UserWarning: findfont: Font family [u'sans-serif'] not found. Falling back to DejaVu Sans\n",
      "  (prop.get_family(), self.defaultFamily[fontext]))\n"
     ]
    },
    {
     "data": {
      "image/png": "[encoded data removed]",
      "text/plain": [
       "<matplotlib.figure.Figure at 0x7fcba0917190>"
      ]
     },
     "metadata": {},
     "output_type": "display_data"
    }
   ],
   "source": [
    "plt.figure()\n",
    "plt.hist(data_cont_['height'],200);\n",
    "plt.ylim(0,500)"
   ]
  },
  {
   "cell_type": "code",
   "execution_count": 9,
   "metadata": {
    "collapsed": true
   },
   "outputs": [],
   "source": [
    "import thres_poiss as thres_poiss"
   ]
  },
  {
   "cell_type": "code",
   "execution_count": 13,
   "metadata": {},
   "outputs": [
    {
     "name": "stdout",
     "output_type": "stream",
     "text": [
      "0.00799915185202\n"
     ]
    }
   ],
   "source": [
    "pnr_height_clamped = np.histogram(data_cont_['height'], 150)\n",
    "th = thres_poiss.thresholds_N(pnr_height_clamped, min_peak_sep=0.01, weighted=True)\n",
    "print th[0]"
   ]
  },
  {
   "cell_type": "code",
   "execution_count": 14,
   "metadata": {
    "collapsed": true
   },
   "outputs": [],
   "source": [
    "height_th = th[0]\n",
    "# height_th=0.00782961701626\n",
    "# height_th=0.00803902717278"
   ]
  },
  {
   "cell_type": "code",
   "execution_count": 6,
   "metadata": {
    "collapsed": true
   },
   "outputs": [],
   "source": [
    "mask_0ph = data_cont_0th_abs_extend_simple[:,1] < height_th"
   ]
  },
  {
   "cell_type": "code",
   "execution_count": 7,
   "metadata": {
    "collapsed": true
   },
   "outputs": [],
   "source": [
    "noise_th = np.mean(data_cont_0th_abs_extend_simple[:,2][mask_0ph] )\n",
    "# noise_th = 0.0017635801619151478"
   ]
  },
  {
   "cell_type": "code",
   "execution_count": 33,
   "metadata": {},
   "outputs": [
    {
     "name": "stderr",
     "output_type": "stream",
     "text": [
      "100%|██████████| 10000/10000 [00:33<00:00, 299.68it/s]\n"
     ]
    }
   ],
   "source": [
    "reload(pu)\n",
    "reload(disc)\n",
    "reload(disc_edges)\n",
    "reload(hpa)\n",
    "tasks = tqdm.tqdm(filelist[10000:20000])\n",
    "data_cont_0th_abs_extend_simple_ = np.array([hpa.param_extr(f,height_th,0,650) for f in tasks])"
   ]
  },
  {
   "cell_type": "code",
   "execution_count": 42,
   "metadata": {
    "collapsed": true
   },
   "outputs": [],
   "source": [
    "np.savetxt(results_directory+'data_cont_0th_abs_extend_simple.dat',data_cont_0th_abs_extend_simple)"
   ]
  },
  {
   "cell_type": "code",
   "execution_count": 5,
   "metadata": {},
   "outputs": [
    {
     "ename": "IOError",
     "evalue": "[Errno 2] No such file or directory: './data_cont_0th_abs_extend_simple.dat'",
     "output_type": "error",
     "traceback": [
      "\u001b[0;31m--------------------------------------------------------------------------\u001b[0m",
      "\u001b[0;31mIOError\u001b[0m                                  Traceback (most recent call last)",
      "\u001b[0;32m<ipython-input-5-2feb530c7554>\u001b[0m in \u001b[0;36m<module>\u001b[0;34m()\u001b[0m\n\u001b[0;32m----> 1\u001b[0;31m \u001b[0mdata_cont_0th_abs_extend_simple\u001b[0m \u001b[0;34m=\u001b[0m \u001b[0mnp\u001b[0m\u001b[0;34m.\u001b[0m\u001b[0mloadtxt\u001b[0m\u001b[0;34m(\u001b[0m\u001b[0mresults_directory\u001b[0m\u001b[0;34m+\u001b[0m\u001b[0;34m'data_cont_0th_abs_extend_simple.dat'\u001b[0m\u001b[0;34m)\u001b[0m\u001b[0;34m\u001b[0m\u001b[0m\n\u001b[0m",
      "\u001b[0;32m/usr/local/lib/python2.7/dist-packages/numpy/lib/npyio.pyc\u001b[0m in \u001b[0;36mloadtxt\u001b[0;34m(fname, dtype, comments, delimiter, converters, skiprows, usecols, unpack, ndmin)\u001b[0m\n\u001b[1;32m    856\u001b[0m                 \u001b[0mfh\u001b[0m \u001b[0;34m=\u001b[0m \u001b[0miter\u001b[0m\u001b[0;34m(\u001b[0m\u001b[0mbz2\u001b[0m\u001b[0;34m.\u001b[0m\u001b[0mBZ2File\u001b[0m\u001b[0;34m(\u001b[0m\u001b[0mfname\u001b[0m\u001b[0;34m)\u001b[0m\u001b[0;34m)\u001b[0m\u001b[0;34m\u001b[0m\u001b[0m\n\u001b[1;32m    857\u001b[0m             \u001b[0;32melif\u001b[0m \u001b[0msys\u001b[0m\u001b[0;34m.\u001b[0m\u001b[0mversion_info\u001b[0m\u001b[0;34m[\u001b[0m\u001b[0;36m0\u001b[0m\u001b[0;34m]\u001b[0m \u001b[0;34m==\u001b[0m \u001b[0;36m2\u001b[0m\u001b[0;34m:\u001b[0m\u001b[0;34m\u001b[0m\u001b[0m\n\u001b[0;32m--> 858\u001b[0;31m                 \u001b[0mfh\u001b[0m \u001b[0;34m=\u001b[0m \u001b[0miter\u001b[0m\u001b[0;34m(\u001b[0m\u001b[0mopen\u001b[0m\u001b[0;34m(\u001b[0m\u001b[0mfname\u001b[0m\u001b[0;34m,\u001b[0m \u001b[0;34m'U'\u001b[0m\u001b[0;34m)\u001b[0m\u001b[0;34m)\u001b[0m\u001b[0;34m\u001b[0m\u001b[0m\n\u001b[0m\u001b[1;32m    859\u001b[0m             \u001b[0;32melse\u001b[0m\u001b[0;34m:\u001b[0m\u001b[0;34m\u001b[0m\u001b[0m\n\u001b[1;32m    860\u001b[0m                 \u001b[0mfh\u001b[0m \u001b[0;34m=\u001b[0m \u001b[0miter\u001b[0m\u001b[0;34m(\u001b[0m\u001b[0mopen\u001b[0m\u001b[0;34m(\u001b[0m\u001b[0mfname\u001b[0m\u001b[0;34m)\u001b[0m\u001b[0;34m)\u001b[0m\u001b[0;34m\u001b[0m\u001b[0m\n",
      "\u001b[0;31mIOError\u001b[0m: [Errno 2] No such file or directory: './data_cont_0th_abs_extend_simple.dat'"
     ]
    }
   ],
   "source": [
    "data_cont_0th_abs_extend_simple = np.loadtxt(results_directory+'data_cont_0th_abs_extend_simple.dat')"
   ]
  },
  {
   "cell_type": "code",
   "execution_count": 34,
   "metadata": {},
   "outputs": [
    {
     "data": {
      "text/plain": [
       "(0, 200)"
      ]
     },
     "execution_count": 34,
     "metadata": {},
     "output_type": "execute_result"
    },
    {
     "data": {
      "image/png": "[encoded data removed]",
      "text/plain": [
       "<matplotlib.figure.Figure at 0x7fcb98cb74d0>"
      ]
     },
     "metadata": {},
     "output_type": "display_data"
    }
   ],
   "source": [
    "plt.figure(figsize=(10,5))\n",
    "# plt.hist(data_cont_0th_abs_extend_simple[:,0],200,range=[0,15]);\n",
    "plt.hist(data_cont_0th_abs_extend_simple_['area_win'],200);\n",
    "plt.xlim(0,15)\n",
    "plt.ylim(0,200)"
   ]
  },
  {
   "cell_type": "code",
   "execution_count": 35,
   "metadata": {
    "collapsed": true
   },
   "outputs": [],
   "source": [
    "area = data_cont_0th_abs_extend_simple_['area_win']\n",
    "# area = data_cont_0th_abs_extend_simple[:,0]"
   ]
  },
  {
   "cell_type": "code",
   "execution_count": 37,
   "metadata": {},
   "outputs": [],
   "source": [
    "interesting_traces = filelist[10000:20000][(area>8.6) & (area<9)]"
   ]
  },
  {
   "cell_type": "code",
   "execution_count": 11,
   "metadata": {
    "collapsed": true
   },
   "outputs": [],
   "source": [
    "pnr_height_from_cw = np.histogram(area, 200)"
   ]
  },
  {
   "cell_type": "code",
   "execution_count": 12,
   "metadata": {},
   "outputs": [
    {
     "name": "stdout",
     "output_type": "stream",
     "text": [
      "est peak pos = [  1.69632713   5.51306318  11.16748695  14.41878062]\n",
      " est peak hts = [ 140 5193  427   60]\n",
      "2.75653158938\n"
     ]
    },
    {
     "name": "stderr",
     "output_type": "stream",
     "text": [
      "/mnt/disk0/home/jianwei_leejw/scripts/TESPulseFitCode/thres.py:65: VisibleDeprecationWarning: boolean index did not match indexed array along dimension 0; dimension is 4 but corresponding boolean dimension is 3\n",
      "  peak_height = peak_height[peaks_pos>th01]\n"
     ]
    },
    {
     "name": "stdout",
     "output_type": "stream",
     "text": [
      "[[Model]]\n",
      "    ((Model(gaussian, prefix='g1_') + Model(gaussian, prefix='g2_')) + Model(gaussian, prefix='g3_'))\n",
      "[[Variables]]\n",
      "    n_bar:          0.26062527 (init= 0.2)\n",
      "    A:              55255.2993 (init= 15579)\n",
      "    Delta_E:        68.0007558 (init= 3.251294)\n",
      "    sigma_p:        0.91477378 (init= 0.6752372)\n",
      "    g1_center:      5.63261754 (init= 5.513063)\n",
      "    g2_center:      11.0542035 (init= 11.16749)\n",
      "    g3_center:      16.1754214 (init= 14.41878)\n",
      "    g1_amplitude:   11096.9171  == 'A * exp(-n_bar) * n_bar**1 / factorial(1)'\n",
      "    g2_amplitude:   1446.06851  == 'A * exp(-n_bar) * n_bar**2 / factorial(2)'\n",
      "    g3_amplitude:   125.627332  == 'A * exp(-n_bar) * n_bar**3 / factorial(3)'\n",
      "    g1_sigma:       0.91477378  == 'sigma_p * sqrt(1)'\n",
      "    g2_sigma:       1.29368548  == 'sigma_p * sqrt(2)'\n",
      "    g3_sigma:       1.58443466  == 'sigma_p * sqrt(3)'\n",
      "\n"
     ]
    },
    {
     "data": {
      "text/plain": [
       "(0, 1750)"
      ]
     },
     "execution_count": 12,
     "metadata": {},
     "output_type": "execute_result"
    },
    {
     "data": {
      "image/png": "[encoded data removed]",
      "text/plain": [
       "<matplotlib.figure.Figure at 0x7fc9c9ab0750>"
      ]
     },
     "metadata": {},
     "output_type": "display_data"
    }
   ],
   "source": [
    "reload(thres)\n",
    "%matplotlib inline\n",
    "result = thres.gauss_fit_poiss_ph_region(pnr_height_from_cw,\n",
    "                                          min_peak_sep=3, \n",
    "                                          threshold=1e-2, \n",
    "                                          weighted=True,\n",
    "                                               plot=True)\n",
    "\n",
    "# np.savetxt(results_directory+'area_mus.dat',area_mus)\n",
    "# np.savetxt(results_directory+'area_sigmas.dat',area_sigmas)\n",
    "plt.xlim(0,15)\n",
    "plt.ylim(0,1750)\n",
    "# print np.sort(area_mus), area_sigmas[np.argsort(area_mus)]"
   ]
  },
  {
   "cell_type": "code",
   "execution_count": 13,
   "metadata": {},
   "outputs": [
    {
     "name": "stdout",
     "output_type": "stream",
     "text": [
      "est peak pos = [  1.69632713   5.51306318  11.16748695  14.41878062]\n",
      " est peak hts = [ 140 5193  427   60]\n",
      "2.75653158938\n",
      "at threshold 7.95537909585 between 5.63261754895 and 11.054203496:\n",
      "prob signal lost = 0.00830234323691\n",
      "prob noise enters = 0.00555587060419\n",
      "at threshold 13.4379535861 between 11.054203496 and 16.1754214315:\n",
      "prob signal lost = 0.0420187435957\n",
      "prob noise enters = 0.0326934228203\n"
     ]
    }
   ],
   "source": [
    "reload(thres)\n",
    "result = thres.thresholds_N(pnr_height_from_cw,\n",
    "                          min_peak_sep=3, \n",
    "                          threshold=1e-2, \n",
    "                          weighted=True)"
   ]
  },
  {
   "cell_type": "code",
   "execution_count": 66,
   "metadata": {
    "collapsed": true
   },
   "outputs": [],
   "source": [
    "heights = data_cont_0th_abs_extend_simple[:,1]"
   ]
  },
  {
   "cell_type": "code",
   "execution_count": 69,
   "metadata": {},
   "outputs": [
    {
     "data": {
      "text/plain": [
       "(0, 0.02)"
      ]
     },
     "execution_count": 69,
     "metadata": {},
     "output_type": "execute_result"
    },
    {
     "data": {
      "image/png": "[encoded data removed]",
      "text/plain": [
       "<matplotlib.figure.Figure at 0x7fc9cc66cbd0>"
      ]
     },
     "metadata": {},
     "output_type": "display_data"
    }
   ],
   "source": [
    "plt.hist(heights,200);\n",
    "plt.xlim(0,0.02)"
   ]
  },
  {
   "cell_type": "code",
   "execution_count": null,
   "metadata": {
    "collapsed": true
   },
   "outputs": [],
   "source": [
    "# TEST PARTIAL PULSE EDGE REJECTION\n",
    "reload(pu)\n",
    "reload(disc)\n",
    "reload(disc_edges)\n",
    "reload(hpa)\n",
    "# interesting_traces=np.genfromtxt(results_directory + 'edge_disc_failure_traces.dat',\n",
    "#                                  delimiter='\\n',\n",
    "#                                  dtype='string')\n",
    "\n",
    "# t, s = hpa.trace_extr(np.setdiff1d(filelist,interesting_traces)[15]\n",
    "#                       ,height_th)\n",
    "# fname = interesting_traces[7]\n",
    "fname = '/mnt/disk1/data/20170523_TES5_75mK_95uA_trise_115ns/doubles/C2doubles16335.trc'\n",
    "print fname\n",
    "t,_ = hpa.trace_extr(fname, height_th)\n",
    "s = trcp.trace_extr(fname,height_th)\n",
    "[mask, clamp, edges, left_edges, right_edges] = pd.discriminator(t,s[1:], \n",
    "                                                                  dt_left=0,dt_right=1300e-9, \n",
    "                                                                  height_th=height_th, \n",
    "                                                                  Plot=True, \n",
    "                                                                  method=2)\n",
    "plt.show()\n",
    "%matplotlib inline\n",
    "plt.figure()\n",
    "f, ax = plt.subplots(figsize=(10,5))\n",
    "ax2 = ax.twinx()\n",
    "ax.plot(s)\n",
    "ax.axhline(height_th, linestyle = '--', color = 'grey', label='height_th')\n",
    "ax.axhline(noise_th, linestyle = '--', color = 'grey', label='noise_th')\n",
    "# ax2.legend()\n",
    "\n",
    "mask = pu.disc_peak_full(s,height_th,0,650)\n",
    "\n",
    "# mask_f = disc_edges.disc_edges(s,height_th,noise_th)\n",
    "# mask_b  = np.flipud(disc_edges.disc_edges(np.flipud(s),height_th,0))\n",
    "# mask = pu.disc_edges_full(s,height_th,noise_th)\n",
    "\n",
    "ax2.plot(mask,label='combined')\n",
    "\n",
    "ax.set_ylabel('signal')\n",
    "ax2.set_ylabel('logic')\n",
    "ax2.legend()"
   ]
  }
 ],
 "metadata": {
  "kernelspec": {
   "display_name": "Python 2",
   "language": "python",
   "name": "python2"
  },
  "language_info": {
   "codemirror_mode": {
    "name": "ipython",
    "version": 2
   },
   "file_extension": ".py",
   "mimetype": "text/x-python",
   "name": "python",
   "nbconvert_exporter": "python",
   "pygments_lexer": "ipython2",
   "version": "2.7.12"
  }
 },
 "nbformat": 4,
 "nbformat_minor": 2
}
